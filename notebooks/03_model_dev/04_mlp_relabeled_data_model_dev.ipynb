{
 "cells": [
  {
   "cell_type": "markdown",
   "id": "dd819ccf-f4b2-4b86-9975-0719f714bc81",
   "metadata": {},
   "source": [
    "# Imports"
   ]
  },
  {
   "cell_type": "code",
   "execution_count": 1,
   "id": "a84a5504-151c-4ed4-9be4-b0bed96cc4c2",
   "metadata": {},
   "outputs": [],
   "source": [
    "import pandas as pd\n",
    "import numpy as np\n",
    "import os\n",
    "import time\n",
    "from PIL import Image\n",
    "\n",
    "from sklearn.model_selection import train_test_split, StratifiedKFold, cross_validate, GridSearchCV\n",
    "from sklearn.neural_network import MLPClassifier\n",
    "from sklearn.preprocessing import StandardScaler\n",
    "from sklearn.pipeline import make_pipeline, Pipeline\n",
    "from sklearn.metrics import (accuracy_score, precision_score, recall_score, \n",
    "                             f1_score, confusion_matrix, classification_report,\n",
    "                             roc_curve, auc, roc_auc_score, make_scorer)\n",
    "\n",
    "import matplotlib.pyplot as plt\n",
    "import seaborn as sns"
   ]
  },
  {
   "cell_type": "markdown",
   "id": "e5c12a73-cbcd-4e2f-9fae-cb3f685133f1",
   "metadata": {},
   "source": [
    "# Util funcs"
   ]
  },
  {
   "cell_type": "markdown",
   "id": "0a819d18-0741-4560-80d5-4049f05d5b9d",
   "metadata": {},
   "source": [
    "Podaci su prečišćeni korišćenjem funkcije `handle_invalid_action_images(dataset)` dostupnoj i korišćenoj u svesci `../02_dataset_creation/07_handle_invalid_action_images.ipynb`, tako da u nastavku nisu neophodne dodatne provere u vezi formata slika, i sl."
   ]
  },
  {
   "cell_type": "code",
   "execution_count": 2,
   "id": "2ea272a7-f54a-4242-9f86-3438396a1c98",
   "metadata": {},
   "outputs": [],
   "source": [
    "def load_data(path, y):\n",
    "    X = []\n",
    "    path = os.path.join(path, y)\n",
    "    for image_file in os.listdir(path):\n",
    "        image_path = os.path.join(path, image_file)\n",
    "        if os.path.isfile(image_path):\n",
    "            with Image.open(image_path) as img:\n",
    "                img = img.convert('RGB')\n",
    "                X.append(np.array(img))\n",
    "    \n",
    "    return X, [y] * len(X)"
   ]
  },
  {
   "cell_type": "code",
   "execution_count": 3,
   "id": "1fa90687-fc31-4ed9-94c3-ae928637d672",
   "metadata": {},
   "outputs": [],
   "source": [
    "def print_time_taken(start_time, end_time):\n",
    "    elapsed_time = end_time - start_time\n",
    "    hours, rem = divmod(elapsed_time, 3600)\n",
    "    minutes, seconds = divmod(rem, 60)\n",
    "    print(f\"Time taken: {int(hours):02}:{int(minutes):02}:{seconds:05.2f}\")"
   ]
  },
  {
   "cell_type": "markdown",
   "id": "320d48a8-22a9-49ae-9cf9-7799ce3e4db3",
   "metadata": {},
   "source": [
    "# Korišćenje skupa dobijenog automatskom obradom, pre ručne provere i relabeliranja"
   ]
  },
  {
   "cell_type": "markdown",
   "id": "27ea44d2-3fb2-4b27-b629-6f7259f6e388",
   "metadata": {},
   "source": [
    "## Učitavanje i preprocesiranje podataka"
   ]
  },
  {
   "cell_type": "code",
   "execution_count": 4,
   "id": "c50a180d-e1f1-41b5-a012-0e2652a58973",
   "metadata": {
    "scrolled": true,
    "tags": []
   },
   "outputs": [],
   "source": [
    "images = []\n",
    "labels = []\n",
    "for i, label in enumerate(os.listdir('../../data/datasets/action_images_dataset_v1.0')):\n",
    "    X, y = load_data('../../data/datasets/action_images_dataset_v1.0', label)\n",
    "    images += X\n",
    "    labels += y\n",
    "images = np.array(images)"
   ]
  },
  {
   "cell_type": "code",
   "execution_count": 5,
   "id": "821784a1-56de-4e82-a01b-0dec3ed858de",
   "metadata": {},
   "outputs": [],
   "source": [
    "X = images.reshape((len(images), -1))\n",
    "y = labels"
   ]
  },
  {
   "cell_type": "code",
   "execution_count": 6,
   "id": "59acfa5e-d038-41af-b242-b255fefb0a0d",
   "metadata": {},
   "outputs": [],
   "source": [
    "class_labels = ['backhand', 'forehand', 'other', 'serve']"
   ]
  },
  {
   "cell_type": "code",
   "execution_count": 7,
   "id": "b0dd8a13-1334-4184-a2c5-cf2df9f2edc9",
   "metadata": {},
   "outputs": [
    {
     "name": "stdout",
     "output_type": "stream",
     "text": [
      "Backhands count: 1895, Forehands count: 2293, Other count: 6142, Serve count: 1587\n",
      "All strokes count: 11917\n"
     ]
    }
   ],
   "source": [
    "bh_cnt = sum([1 for l in y if l == 'backhand'])\n",
    "fh_cnt = sum([1 for l in y if l == 'forehand'])\n",
    "other_cnt = sum([1 for l in y if l == 'other'])\n",
    "serve_cnt = sum([1 for l in y if l == 'serve'])\n",
    "print(f'Backhands count: {bh_cnt}, Forehands count: {fh_cnt}, Other count: {other_cnt}, Serve count: {serve_cnt}')\n",
    "print(f'All strokes count: {len(y)}')"
   ]
  },
  {
   "cell_type": "code",
   "execution_count": 8,
   "id": "c3c54b44-d40f-487b-9bb7-9e034a4475b9",
   "metadata": {},
   "outputs": [],
   "source": [
    "## Uncomment and run this cell with the desired num_examples count\n",
    "## if you'd like to work with less data for testing purposes\n",
    "\n",
    "# num_examples = 500\n",
    "# X_sampled, _, y_sampled, _ = train_test_split(X, y, train_size=num_examples, stratify=y, random_state=42)\n",
    "# X = X_sampled\n",
    "# y = y_sampled\n",
    "\n",
    "# bh_cnt = sum([1 for l in y if l == 'backhand'])\n",
    "# fh_cnt = sum([1 for l in y if l == 'forehand'])\n",
    "# other_cnt = sum([1 for l in y if l == 'other'])\n",
    "# serve_cnt = sum([1 for l in y if l == 'serve'])\n",
    "# print(f'Backhands count: {bh_cnt}, Forehands count: {fh_cnt}, Other count: {other_cnt}, Serve count: {serve_cnt}')\n",
    "# print(f'All strokes count: {len(y)}')"
   ]
  },
  {
   "cell_type": "markdown",
   "id": "9e973e98-88a4-4998-876f-7feea0f3a904",
   "metadata": {},
   "source": [
    "## Isprobavanje višeslojnog perceptrona (MLP)"
   ]
  },
  {
   "cell_type": "markdown",
   "id": "1e9cd094-198e-4a75-b189-6436a6f925d6",
   "metadata": {},
   "source": [
    "**Napomena da je u celom projektu korišćeno determinističko razdvajanje na trening, validacioni i test skup (random_state=42), tako da je analiza test skupa pokrenuta tek na kraju celog projekta u svakoj svesci za svaki model.**"
   ]
  },
  {
   "cell_type": "code",
   "execution_count": null,
   "id": "6fa198f9-007b-4d4a-8758-f27eb066389c",
   "metadata": {},
   "outputs": [
    {
     "data": {
      "text/html": [
       "<style>#sk-container-id-1 {color: black;}#sk-container-id-1 pre{padding: 0;}#sk-container-id-1 div.sk-toggleable {background-color: white;}#sk-container-id-1 label.sk-toggleable__label {cursor: pointer;display: block;width: 100%;margin-bottom: 0;padding: 0.3em;box-sizing: border-box;text-align: center;}#sk-container-id-1 label.sk-toggleable__label-arrow:before {content: \"▸\";float: left;margin-right: 0.25em;color: #696969;}#sk-container-id-1 label.sk-toggleable__label-arrow:hover:before {color: black;}#sk-container-id-1 div.sk-estimator:hover label.sk-toggleable__label-arrow:before {color: black;}#sk-container-id-1 div.sk-toggleable__content {max-height: 0;max-width: 0;overflow: hidden;text-align: left;background-color: #f0f8ff;}#sk-container-id-1 div.sk-toggleable__content pre {margin: 0.2em;color: black;border-radius: 0.25em;background-color: #f0f8ff;}#sk-container-id-1 input.sk-toggleable__control:checked~div.sk-toggleable__content {max-height: 200px;max-width: 100%;overflow: auto;}#sk-container-id-1 input.sk-toggleable__control:checked~label.sk-toggleable__label-arrow:before {content: \"▾\";}#sk-container-id-1 div.sk-estimator input.sk-toggleable__control:checked~label.sk-toggleable__label {background-color: #d4ebff;}#sk-container-id-1 div.sk-label input.sk-toggleable__control:checked~label.sk-toggleable__label {background-color: #d4ebff;}#sk-container-id-1 input.sk-hidden--visually {border: 0;clip: rect(1px 1px 1px 1px);clip: rect(1px, 1px, 1px, 1px);height: 1px;margin: -1px;overflow: hidden;padding: 0;position: absolute;width: 1px;}#sk-container-id-1 div.sk-estimator {font-family: monospace;background-color: #f0f8ff;border: 1px dotted black;border-radius: 0.25em;box-sizing: border-box;margin-bottom: 0.5em;}#sk-container-id-1 div.sk-estimator:hover {background-color: #d4ebff;}#sk-container-id-1 div.sk-parallel-item::after {content: \"\";width: 100%;border-bottom: 1px solid gray;flex-grow: 1;}#sk-container-id-1 div.sk-label:hover label.sk-toggleable__label {background-color: #d4ebff;}#sk-container-id-1 div.sk-serial::before {content: \"\";position: absolute;border-left: 1px solid gray;box-sizing: border-box;top: 0;bottom: 0;left: 50%;z-index: 0;}#sk-container-id-1 div.sk-serial {display: flex;flex-direction: column;align-items: center;background-color: white;padding-right: 0.2em;padding-left: 0.2em;position: relative;}#sk-container-id-1 div.sk-item {position: relative;z-index: 1;}#sk-container-id-1 div.sk-parallel {display: flex;align-items: stretch;justify-content: center;background-color: white;position: relative;}#sk-container-id-1 div.sk-item::before, #sk-container-id-1 div.sk-parallel-item::before {content: \"\";position: absolute;border-left: 1px solid gray;box-sizing: border-box;top: 0;bottom: 0;left: 50%;z-index: -1;}#sk-container-id-1 div.sk-parallel-item {display: flex;flex-direction: column;z-index: 1;position: relative;background-color: white;}#sk-container-id-1 div.sk-parallel-item:first-child::after {align-self: flex-end;width: 50%;}#sk-container-id-1 div.sk-parallel-item:last-child::after {align-self: flex-start;width: 50%;}#sk-container-id-1 div.sk-parallel-item:only-child::after {width: 0;}#sk-container-id-1 div.sk-dashed-wrapped {border: 1px dashed gray;margin: 0 0.4em 0.5em 0.4em;box-sizing: border-box;padding-bottom: 0.4em;background-color: white;}#sk-container-id-1 div.sk-label label {font-family: monospace;font-weight: bold;display: inline-block;line-height: 1.2em;}#sk-container-id-1 div.sk-label-container {text-align: center;}#sk-container-id-1 div.sk-container {/* jupyter's `normalize.less` sets `[hidden] { display: none; }` but bootstrap.min.css set `[hidden] { display: none !important; }` so we also need the `!important` here to be able to override the default hidden behavior on the sphinx rendered scikit-learn.org. See: https://github.com/scikit-learn/scikit-learn/issues/21755 */display: inline-block !important;position: relative;}#sk-container-id-1 div.sk-text-repr-fallback {display: none;}</style><div id=\"sk-container-id-1\" class=\"sk-top-container\"><div class=\"sk-text-repr-fallback\"><pre>MLPClassifier(alpha=0.001, early_stopping=True,\n",
       "              hidden_layer_sizes=(100, 150, 125, 75, 100),\n",
       "              learning_rate=&#x27;adaptive&#x27;, max_iter=1000, random_state=42)</pre><b>In a Jupyter environment, please rerun this cell to show the HTML representation or trust the notebook. <br />On GitHub, the HTML representation is unable to render, please try loading this page with nbviewer.org.</b></div><div class=\"sk-container\" hidden><div class=\"sk-item\"><div class=\"sk-estimator sk-toggleable\"><input class=\"sk-toggleable__control sk-hidden--visually\" id=\"sk-estimator-id-1\" type=\"checkbox\" checked><label for=\"sk-estimator-id-1\" class=\"sk-toggleable__label sk-toggleable__label-arrow\">MLPClassifier</label><div class=\"sk-toggleable__content\"><pre>MLPClassifier(alpha=0.001, early_stopping=True,\n",
       "              hidden_layer_sizes=(100, 150, 125, 75, 100),\n",
       "              learning_rate=&#x27;adaptive&#x27;, max_iter=1000, random_state=42)</pre></div></div></div></div></div>"
      ],
      "text/plain": [
       "MLPClassifier(alpha=0.001, early_stopping=True,\n",
       "              hidden_layer_sizes=(100, 150, 125, 75, 100),\n",
       "              learning_rate='adaptive', max_iter=1000, random_state=42)"
      ]
     },
     "execution_count": 9,
     "metadata": {},
     "output_type": "execute_result"
    }
   ],
   "source": [
    "X_train_validation, X_test, y_train_validation, y_test = train_test_split(X, y, \n",
    "                                                                          test_size=0.1, \n",
    "                                                                          stratify=y, \n",
    "                                                                          random_state=42)\n",
    "\n",
    "X_train, X_val, y_train, y_val = train_test_split(X_train_validation, y_train_validation, \n",
    "                                                  test_size=0.2, \n",
    "                                                  stratify=y_train_validation, \n",
    "                                                  random_state=42)\n",
    "\n",
    "scaler = StandardScaler()\n",
    "scaler.fit(X_train)\n",
    "X_train = scaler.transform(X_train)\n",
    "X_val = scaler.transform(X_val)\n",
    "\n",
    "clf = MLPClassifier(\n",
    "    hidden_layer_sizes=(100, 150, 125, 75, 100),\n",
    "    activation='relu',\n",
    "    solver='adam',\n",
    "    alpha=0.001,\n",
    "    learning_rate='adaptive',\n",
    "    learning_rate_init=0.001,\n",
    "    max_iter=1000,\n",
    "    early_stopping=True,\n",
    "    random_state=42,\n",
    "    shuffle=True\n",
    ")\n",
    "\n",
    "clf.fit(X_train, y_train)"
   ]
  },
  {
   "cell_type": "code",
   "execution_count": null,
   "id": "9c2c77f8-ffa1-4ee4-9eca-30c21a2a91d5",
   "metadata": {},
   "outputs": [],
   "source": [
    "y_val_preds = clf.predict(X_val)\n",
    "y_train_preds = clf.predict(X_train)"
   ]
  },
  {
   "cell_type": "code",
   "execution_count": null,
   "id": "28c81d09-96ea-42f0-b66e-19aedb0ccfba",
   "metadata": {},
   "outputs": [
    {
     "name": "stdout",
     "output_type": "stream",
     "text": [
      "\n",
      "Training set scores:\n",
      "Accuracy: 0.981002331002331\n",
      "Precision: 0.9758167006810758\n",
      "Recall: 0.977950576852654\n",
      "F1 Score: 0.9767514529326389\n",
      "\n",
      "Validation set scores:\n",
      "Accuracy: 0.9296037296037296\n",
      "Precision: 0.9131120736159737\n",
      "Recall: 0.9182060132643866\n",
      "F1 Score: 0.9154015046426367\n"
     ]
    }
   ],
   "source": [
    "print(\"\\nTraining set scores:\")\n",
    "print(\"Accuracy:\", accuracy_score(y_train, y_train_preds))\n",
    "print(\"Precision:\", precision_score(y_train, y_train_preds, average='macro'))\n",
    "print(\"Recall:\", recall_score(y_train, y_train_preds, average='macro'))\n",
    "print(\"F1 Score:\", f1_score(y_train, y_train_preds, average='macro'))\n",
    "\n",
    "print(\"\\nValidation set scores:\")\n",
    "print(\"Accuracy:\", accuracy_score(y_val, y_val_preds))\n",
    "print(\"Precision:\", precision_score(y_val, y_val_preds, average='macro'))\n",
    "print(\"Recall:\", recall_score(y_val, y_val_preds, average='macro'))\n",
    "print(\"F1 Score:\", f1_score(y_val, y_val_preds, average='macro'))"
   ]
  },
  {
   "cell_type": "code",
   "execution_count": null,
   "id": "4d0224da-9a22-4287-9b5e-44e984f95ecc",
   "metadata": {},
   "outputs": [
    {
     "data": {
      "image/png": "[encoded data removed]",
      "text/plain": [
       "<Figure size 800x600 with 2 Axes>"
      ]
     },
     "metadata": {},
     "output_type": "display_data"
    }
   ],
   "source": [
    "cm = confusion_matrix(y_val, y_val_preds)\n",
    "plt.figure(figsize=(8, 6))\n",
    "sns.heatmap(cm, annot=True, fmt='d', cmap='Blues', xticklabels=class_labels, yticklabels=class_labels)\n",
    "plt.title('Confusion matrix')\n",
    "plt.xlabel('Predicted')\n",
    "plt.ylabel('True')\n",
    "plt.show()"
   ]
  },
  {
   "cell_type": "code",
   "execution_count": null,
   "id": "da83ac1f-cd83-4353-af9c-4b9270b89816",
   "metadata": {},
   "outputs": [
    {
     "name": "stdout",
     "output_type": "stream",
     "text": [
      "              precision    recall  f1-score   support\n",
      "\n",
      "    backhand       0.94      0.98      0.96      1364\n",
      "    forehand       0.98      0.95      0.96      1651\n",
      "       other       0.99      0.99      0.99      4423\n",
      "       serve       0.99      1.00      1.00      1142\n",
      "\n",
      "    accuracy                           0.98      8580\n",
      "   macro avg       0.98      0.98      0.98      8580\n",
      "weighted avg       0.98      0.98      0.98      8580\n",
      "\n"
     ]
    }
   ],
   "source": [
    "print(classification_report(y_train, y_train_preds))"
   ]
  },
  {
   "cell_type": "code",
   "execution_count": null,
   "id": "6a13ad88-eb7d-442e-bce7-da766808e3a8",
   "metadata": {},
   "outputs": [
    {
     "name": "stdout",
     "output_type": "stream",
     "text": [
      "              precision    recall  f1-score   support\n",
      "\n",
      "    backhand       0.84      0.89      0.87       341\n",
      "    forehand       0.87      0.84      0.85       413\n",
      "       other       0.97      0.96      0.97      1105\n",
      "       serve       0.97      0.99      0.98       286\n",
      "\n",
      "    accuracy                           0.93      2145\n",
      "   macro avg       0.91      0.92      0.92      2145\n",
      "weighted avg       0.93      0.93      0.93      2145\n",
      "\n"
     ]
    }
   ],
   "source": [
    "print(classification_report(y_val, y_val_preds))"
   ]
  },
  {
   "cell_type": "markdown",
   "id": "2055a739-847b-4ee4-8a9e-cec1df486c15",
   "metadata": {},
   "source": [
    "Ovako razvijen model s manje više nasumičnim hiperparametrima se prilično muči sa generalizacijom, odnosno vidimo da se model prilično preprilagodio. Nastavljamo dalje."
   ]
  },
  {
   "cell_type": "markdown",
   "id": "70626762-75e6-4dfd-ad98-27abec7371f1",
   "metadata": {},
   "source": [
    "## Pronalaženje najboljih hiperparametara"
   ]
  },
  {
   "cell_type": "code",
   "execution_count": null,
   "id": "e7629180-33e7-4493-86bf-5d45659104d4",
   "metadata": {},
   "outputs": [],
   "source": [
    "X_train_validation, X_test, y_train_validation, y_test = train_test_split(X, y,\n",
    "                                                                          test_size=0.2, \n",
    "                                                                          stratify=y, \n",
    "                                                                          random_state=42)"
   ]
  },
  {
   "cell_type": "code",
   "execution_count": null,
   "id": "9e3ac8c3-4e3f-43af-81de-4b71b7cc0f4e",
   "metadata": {},
   "outputs": [],
   "source": [
    "X_train, X_val, y_train, y_val = train_test_split(X_train_validation, y_train_validation, \n",
    "                                                  test_size=0.2, \n",
    "                                                  stratify=y_train_validation, \n",
    "                                                  random_state=42)"
   ]
  },
  {
   "cell_type": "code",
   "execution_count": null,
   "id": "92069526-2da0-42f3-872d-631f93e06a19",
   "metadata": {},
   "outputs": [],
   "source": [
    "kf = StratifiedKFold(n_splits=3, shuffle=True, random_state=42)\n",
    "\n",
    "params = {\n",
    "    'mlp__hidden_layer_sizes': [(50,), (100,), (100, 50), (100, 150, 100), (75, 100, 200, 150, 100, 50)],\n",
    "    'mlp__activation': ['relu', 'tanh'],\n",
    "    'mlp__alpha': [0.0001, 0.001, 0.01, 0.1],\n",
    "    'mlp__learning_rate_init': [0.001, 0.01, 0.1],\n",
    "    'mlp__learning_rate': ['adaptive']\n",
    "}\n",
    "\n",
    "grid_model = Pipeline(steps=[('scaler', StandardScaler()),\n",
    "                             ('mlp', MLPClassifier(max_iter=1000, early_stopping=True, random_state=42, shuffle=True))])"
   ]
  },
  {
   "cell_type": "code",
   "execution_count": 18,
   "id": "d33523fc-d16c-415d-9098-ce4466c548ec",
   "metadata": {
    "scrolled": true,
    "tags": []
   },
   "outputs": [
    {
     "name": "stdout",
     "output_type": "stream",
     "text": [
      "Fitting 3 folds for each of 120 candidates, totalling 360 fits\n",
      "Time taken: 00:01:08.22\n"
     ]
    }
   ],
   "source": [
    "start = time.time()\n",
    "\n",
    "grid_search = GridSearchCV(grid_model, param_grid=params, scoring='f1_macro', verbose=True, \n",
    "                           cv=kf, return_train_score=True)#, n_jobs=50)\n",
    "grid_search.fit(X_train_validation, y_train_validation)\n",
    "\n",
    "end = time.time()\n",
    "print_time_taken(start, end)"
   ]
  },
  {
   "cell_type": "code",
   "execution_count": 19,
   "id": "e819dc72-d098-47ac-b164-85b7edb2042d",
   "metadata": {},
   "outputs": [
    {
     "name": "stdout",
     "output_type": "stream",
     "text": [
      "Best score (GridSearchCV): 0.9109175497952089\n",
      "Best parameters: {'mlp__activation': 'relu', 'mlp__alpha': 0.001, 'mlp__hidden_layer_sizes': (100,), 'mlp__learning_rate': 'adaptive', 'mlp__learning_rate_init': 0.001}\n",
      "\n",
      "Training set scores:\n",
      "Accuracy: 0.9613165486493574\n",
      "Precision: 0.9501926018867162\n",
      "Recall: 0.9541471605032699\n",
      "F1 Score: 0.9521275003049932\n",
      "\n",
      "Validation set scores:\n",
      "Accuracy: 0.957000524383849\n",
      "Precision: 0.9468761969310138\n",
      "Recall: 0.9520797862728443\n",
      "F1 Score: 0.9491526252011695\n"
     ]
    }
   ],
   "source": [
    "best_model = grid_search.best_estimator_\n",
    "\n",
    "print(f\"Best score (GridSearchCV): {grid_search.best_score_}\")\n",
    "print(f\"Best parameters: {grid_search.best_params_}\\n\")\n",
    "\n",
    "y_train_preds = best_model.predict(X_train)\n",
    "print(\"Training set scores:\")\n",
    "print(\"Accuracy:\", accuracy_score(y_train, y_train_preds))\n",
    "print(\"Precision:\", precision_score(y_train, y_train_preds, average='macro'))\n",
    "print(\"Recall:\", recall_score(y_train, y_train_preds, average='macro'))\n",
    "print(\"F1 Score:\", f1_score(y_train, y_train_preds, average='macro'))\n",
    "\n",
    "y_val_preds = best_model.predict(X_val)\n",
    "print(\"\\nValidation set scores:\")\n",
    "print(\"Accuracy:\", accuracy_score(y_val, y_val_preds))\n",
    "print(\"Precision:\", precision_score(y_val, y_val_preds, average='macro'))\n",
    "print(\"Recall:\", recall_score(y_val, y_val_preds, average='macro'))\n",
    "print(\"F1 Score:\", f1_score(y_val, y_val_preds, average='macro'))"
   ]
  },
  {
   "cell_type": "markdown",
   "id": "d5e22e30-ca82-45f7-a284-fb712c4a43fb",
   "metadata": {},
   "source": [
    "U ovom slučaju smo dobili fenomenalne rezultate, te nećemo proširivati pretragu. U sledećem koraku se prelazi na specijalizovane mreže za slike - CNN-ove, tako da gore navedene rezultate proglasiti za konačne za ovaj model. Ugnježdenom unakrsnom validacijom je pronađen model, koji je mnogo bolji od inicijalnog, jer je umnogome smanjen overfit faktor, odnosno rezultati na trening i validacionom skupu su dosta slični. Videćemo kako će se ponašati na kraju na test skupu i da li ćemo biti u stanju da nadmašimo ovaj rezultat."
   ]
  },
  {
   "cell_type": "code",
   "execution_count": 20,
   "id": "f87cbe73-fca8-4f2c-85ee-6e40f4963082",
   "metadata": {},
   "outputs": [
    {
     "data": {
      "image/png": "[encoded data removed]",
      "text/plain": [
       "<Figure size 800x600 with 2 Axes>"
      ]
     },
     "metadata": {},
     "output_type": "display_data"
    }
   ],
   "source": [
    "cm = confusion_matrix(y_val, y_val_preds)\n",
    "plt.figure(figsize=(8, 6))\n",
    "sns.heatmap(cm, annot=True, fmt='d', cmap='Blues', xticklabels=class_labels, yticklabels=class_labels)\n",
    "plt.title('Confusion matrix')\n",
    "plt.xlabel('Predicted')\n",
    "plt.ylabel('True')\n",
    "plt.show()"
   ]
  },
  {
   "cell_type": "code",
   "execution_count": 21,
   "id": "5a6b93f2-c804-4934-83b3-2e6efff2c91f",
   "metadata": {},
   "outputs": [
    {
     "name": "stdout",
     "output_type": "stream",
     "text": [
      "              precision    recall  f1-score   support\n",
      "\n",
      "    backhand       0.90      0.92      0.91      1213\n",
      "    forehand       0.93      0.92      0.92      1467\n",
      "       other       0.99      0.98      0.98      3930\n",
      "       serve       0.98      1.00      0.99      1016\n",
      "\n",
      "    accuracy                           0.96      7626\n",
      "   macro avg       0.95      0.95      0.95      7626\n",
      "weighted avg       0.96      0.96      0.96      7626\n",
      "\n"
     ]
    }
   ],
   "source": [
    "print(classification_report(y_train, y_train_preds))"
   ]
  },
  {
   "cell_type": "code",
   "execution_count": 22,
   "id": "24391ea9-ad7b-4755-98d1-28876d5ea9c7",
   "metadata": {},
   "outputs": [
    {
     "name": "stdout",
     "output_type": "stream",
     "text": [
      "              precision    recall  f1-score   support\n",
      "\n",
      "    backhand       0.89      0.94      0.91       303\n",
      "    forehand       0.94      0.90      0.92       367\n",
      "       other       0.98      0.97      0.98       983\n",
      "       serve       0.97      1.00      0.99       254\n",
      "\n",
      "    accuracy                           0.96      1907\n",
      "   macro avg       0.95      0.95      0.95      1907\n",
      "weighted avg       0.96      0.96      0.96      1907\n",
      "\n"
     ]
    }
   ],
   "source": [
    "print(classification_report(y_val, y_val_preds))"
   ]
  },
  {
   "cell_type": "markdown",
   "id": "96b230b3-dfd7-4b8c-ac67-bc805a5775f7",
   "metadata": {},
   "source": [
    "Primetimo da je generalizacija modela dobra. Ipak, vidimo da je model prilično dobro naučio da prepozna klase `other` i `serve`, a da se muči s klasama `forehand` i `backhand`, što se donekle može i očekivati, ako se posmatra relativna sličnost ovih udaraca."
   ]
  },
  {
   "cell_type": "markdown",
   "id": "f7ab2c84-5aae-49fc-b3f0-8deb1f1ace9e",
   "metadata": {},
   "source": [
    "## Procena modela na test skupu"
   ]
  },
  {
   "cell_type": "code",
   "execution_count": 23,
   "id": "182d3c7c-af18-4963-9477-254403854b74",
   "metadata": {},
   "outputs": [
    {
     "name": "stdout",
     "output_type": "stream",
     "text": [
      "\n",
      "Test set scores:\n",
      "Accuracy: 0.9203020134228188\n",
      "Precision: 0.9012771281047303\n",
      "Recall: 0.899941709875367\n",
      "F1 Score: 0.9005397389722665\n"
     ]
    }
   ],
   "source": [
    "y_test_preds = best_model.predict(X_test)\n",
    "\n",
    "print(\"\\nTest set scores:\")\n",
    "print(\"Accuracy:\", accuracy_score(y_test, y_test_preds))\n",
    "print(\"Precision:\", precision_score(y_test, y_test_preds, average='macro'))\n",
    "print(\"Recall:\", recall_score(y_test, y_test_preds, average='macro'))\n",
    "print(\"F1 Score:\", f1_score(y_test, y_test_preds, average='macro'))"
   ]
  },
  {
   "cell_type": "code",
   "execution_count": 24,
   "id": "86581f96-e24a-48d6-81ed-96f3a8cbd157",
   "metadata": {},
   "outputs": [
    {
     "data": {
      "image/png": "[encoded data removed]",
      "text/plain": [
       "<Figure size 800x600 with 2 Axes>"
      ]
     },
     "metadata": {},
     "output_type": "display_data"
    }
   ],
   "source": [
    "cm = confusion_matrix(y_test, y_test_preds)\n",
    "plt.figure(figsize=(8, 6))\n",
    "sns.heatmap(cm, annot=True, fmt='d', cmap='Blues', xticklabels=class_labels, yticklabels=class_labels)\n",
    "plt.title('Confusion matrix')\n",
    "plt.xlabel('Predicted')\n",
    "plt.ylabel('True')\n",
    "plt.show()"
   ]
  },
  {
   "cell_type": "code",
   "execution_count": 25,
   "id": "9a86d79b-919b-4b74-a398-192e6850f4fb",
   "metadata": {},
   "outputs": [
    {
     "name": "stdout",
     "output_type": "stream",
     "text": [
      "              precision    recall  f1-score   support\n",
      "\n",
      "    backhand       0.83      0.83      0.83       379\n",
      "    forehand       0.86      0.83      0.84       459\n",
      "       other       0.96      0.97      0.97      1229\n",
      "       serve       0.96      0.97      0.97       317\n",
      "\n",
      "    accuracy                           0.92      2384\n",
      "   macro avg       0.90      0.90      0.90      2384\n",
      "weighted avg       0.92      0.92      0.92      2384\n",
      "\n"
     ]
    }
   ],
   "source": [
    "print(classification_report(y_test, y_test_preds))"
   ]
  },
  {
   "cell_type": "markdown",
   "id": "cfa55b36-549f-4b70-917a-20badd687599",
   "metadata": {},
   "source": [
    "Model daje nešto slabije rezultate na test skupu, ali su rezultati generalno odlični."
   ]
  },
  {
   "cell_type": "markdown",
   "id": "f6063d60-1dc2-46a1-b44a-6f652957372c",
   "metadata": {},
   "source": [
    "# Čuvanje modela, odnosno celog pipeline-a za kasniju upotrebu"
   ]
  },
  {
   "cell_type": "code",
   "execution_count": 26,
   "id": "e1203788-fbac-4b8e-977c-ed134ea1e760",
   "metadata": {},
   "outputs": [],
   "source": [
    "import pickle\n",
    "\n",
    "if not os.path.exists('../../models'):\n",
    "    os.makedirs('../../models')\n",
    "        \n",
    "with open('../../models/07_mlp_relabeled_data.pkl', 'wb') as f:\n",
    "    pickle.dump(best_model, f)"
   ]
  },
  {
   "cell_type": "code",
   "execution_count": null,
   "id": "b2843800-9d18-44f6-b11f-8772dbccfc6b",
   "metadata": {},
   "outputs": [],
   "source": []
  }
 ],
 "metadata": {
  "kernelspec": {
   "display_name": "Tennis AI",
   "language": "python",
   "name": "tennisai"
  },
  "language_info": {
   "codemirror_mode": {
    "name": "ipython",
    "version": 3
   },
   "file_extension": ".py",
   "mimetype": "text/x-python",
   "name": "python",
   "nbconvert_exporter": "python",
   "pygments_lexer": "ipython3",
   "version": "3.8.0"
  }
 },
 "nbformat": 4,
 "nbformat_minor": 5
}
