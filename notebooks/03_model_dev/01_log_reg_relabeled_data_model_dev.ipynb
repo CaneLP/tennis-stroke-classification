{
 "cells": [
  {
   "cell_type": "markdown",
   "id": "dd819ccf-f4b2-4b86-9975-0719f714bc81",
   "metadata": {},
   "source": [
    "# Imports"
   ]
  },
  {
   "cell_type": "code",
   "execution_count": 1,
   "id": "a84a5504-151c-4ed4-9be4-b0bed96cc4c2",
   "metadata": {},
   "outputs": [],
   "source": [
    "import pandas as pd\n",
    "import numpy as np\n",
    "import os\n",
    "import time\n",
    "from PIL import Image\n",
    "\n",
    "from sklearn.model_selection import train_test_split, StratifiedKFold, cross_validate, GridSearchCV\n",
    "from sklearn.linear_model import LogisticRegression\n",
    "from sklearn.preprocessing import StandardScaler\n",
    "from sklearn.pipeline import make_pipeline, Pipeline\n",
    "from sklearn.metrics import (accuracy_score, precision_score, recall_score, \n",
    "                             f1_score, confusion_matrix, classification_report,\n",
    "                             roc_curve, auc, roc_auc_score, make_scorer)\n",
    "\n",
    "import matplotlib.pyplot as plt\n",
    "import seaborn as sns"
   ]
  },
  {
   "cell_type": "markdown",
   "id": "e5c12a73-cbcd-4e2f-9fae-cb3f685133f1",
   "metadata": {},
   "source": [
    "# Util funcs"
   ]
  },
  {
   "cell_type": "markdown",
   "id": "0a819d18-0741-4560-80d5-4049f05d5b9d",
   "metadata": {},
   "source": [
    "Podaci su prečišćeni korišćenjem funkcije `handle_invalid_action_images(dataset)` dostupnoj i korišćenoj u svesci `../02_dataset_creation/07_handle_invalid_action_images.ipynb`, tako da u nastavku nisu neophodne dodatne provere u vezi formata slika, i sl."
   ]
  },
  {
   "cell_type": "code",
   "execution_count": 2,
   "id": "2ea272a7-f54a-4242-9f86-3438396a1c98",
   "metadata": {},
   "outputs": [],
   "source": [
    "def load_data(path, y):\n",
    "    X = []\n",
    "    path = os.path.join(path, y)\n",
    "    for image_file in os.listdir(path):\n",
    "        image_path = os.path.join(path, image_file)\n",
    "        if os.path.isfile(image_path):\n",
    "            with Image.open(image_path) as img:\n",
    "                img = img.convert('RGB')\n",
    "                X.append(np.array(img))\n",
    "    \n",
    "    return X, [y] * len(X)"
   ]
  },
  {
   "cell_type": "code",
   "execution_count": 3,
   "id": "1fa90687-fc31-4ed9-94c3-ae928637d672",
   "metadata": {},
   "outputs": [],
   "source": [
    "def print_time_taken(start_time, end_time):\n",
    "    elapsed_time = end_time - start_time\n",
    "    hours, rem = divmod(elapsed_time, 3600)\n",
    "    minutes, seconds = divmod(rem, 60)\n",
    "    print(f\"Time taken: {int(hours):02}:{int(minutes):02}:{seconds:05.2f}\")"
   ]
  },
  {
   "cell_type": "markdown",
   "id": "320d48a8-22a9-49ae-9cf9-7799ce3e4db3",
   "metadata": {},
   "source": [
    "# Korišćenje konačnog, prečišćenog skupa"
   ]
  },
  {
   "cell_type": "markdown",
   "id": "2ee4add8-8193-4419-a7b3-16ed72baf828",
   "metadata": {},
   "source": [
    "Ove 2 sveske su odvojene da bi se lakše analizirali dobijeni rezultati i da se ne zatrpavaju sveske."
   ]
  },
  {
   "cell_type": "markdown",
   "id": "27ea44d2-3fb2-4b27-b629-6f7259f6e388",
   "metadata": {},
   "source": [
    "## Učitavanje i preprocesiranje podataka"
   ]
  },
  {
   "cell_type": "code",
   "execution_count": 4,
   "id": "c50a180d-e1f1-41b5-a012-0e2652a58973",
   "metadata": {
    "scrolled": true,
    "tags": []
   },
   "outputs": [],
   "source": [
    "images = []\n",
    "labels = []\n",
    "for i, label in enumerate(os.listdir('/app/tennis_data/stroke_recognition_dataset/master/v1.0/action_images_dataset_v1.0/bottom')):\n",
    "    X, y = load_data('/app/tennis_data/stroke_recognition_dataset/master/v1.0/action_images_dataset_v1.0/bottom', label)\n",
    "    images += X\n",
    "    labels += y\n",
    "images = np.array(images)"
   ]
  },
  {
   "cell_type": "code",
   "execution_count": 5,
   "id": "821784a1-56de-4e82-a01b-0dec3ed858de",
   "metadata": {},
   "outputs": [],
   "source": [
    "X = images.reshape((len(images), -1))\n",
    "y = labels"
   ]
  },
  {
   "cell_type": "code",
   "execution_count": 6,
   "id": "59acfa5e-d038-41af-b242-b255fefb0a0d",
   "metadata": {},
   "outputs": [],
   "source": [
    "class_labels = ['backhand', 'forehand', 'other', 'serve']"
   ]
  },
  {
   "cell_type": "code",
   "execution_count": 7,
   "id": "b0dd8a13-1334-4184-a2c5-cf2df9f2edc9",
   "metadata": {},
   "outputs": [
    {
     "name": "stdout",
     "output_type": "stream",
     "text": [
      "Backhands count: 1895, Forehands count: 2293, Other count: 6142, Serve count: 1587\n",
      "All strokes count: 11917\n"
     ]
    }
   ],
   "source": [
    "bh_cnt = sum([1 for l in y if l == 'backhand'])\n",
    "fh_cnt = sum([1 for l in y if l == 'forehand'])\n",
    "other_cnt = sum([1 for l in y if l == 'other'])\n",
    "serve_cnt = sum([1 for l in y if l == 'serve'])\n",
    "print(f'Backhands count: {bh_cnt}, Forehands count: {fh_cnt}, Other count: {other_cnt}, Serve count: {serve_cnt}')\n",
    "print(f'All strokes count: {len(y)}')"
   ]
  },
  {
   "cell_type": "markdown",
   "id": "9e973e98-88a4-4998-876f-7feea0f3a904",
   "metadata": {},
   "source": [
    "## Isprobavanje logističke regresije"
   ]
  },
  {
   "cell_type": "markdown",
   "id": "1e9cd094-198e-4a75-b189-6436a6f925d6",
   "metadata": {},
   "source": [
    "**Napomena da je u celom projektu korišćeno determinističko razdvajanje na trening, validacioni i test skup (random_state=42), tako da je analiza test skupa pokrenuta tek na kraju celog projekta u svakoj svesci za svaki model.**"
   ]
  },
  {
   "cell_type": "markdown",
   "id": "175ea1de-87cf-4a80-941b-7f4e926c8f8e",
   "metadata": {},
   "source": [
    "`saga` rešavač najčešće izbacuje upozorenje da je moguće nastaviti treniranje, međutim isprobane su razne opcije i nisu postignuti bolji rezultati na validacionom skupu `ConvergenceWarning: The max_iter was reached which means the coef_ did not converge \"the coef_ did not converge\", ConvergenceWarning)`, tako da je ostavljeno svuda `max_iter=100` da se ne gubi vreme nepotrebno."
   ]
  },
  {
   "cell_type": "code",
   "execution_count": 8,
   "id": "6fa198f9-007b-4d4a-8758-f27eb066389c",
   "metadata": {},
   "outputs": [
    {
     "name": "stderr",
     "output_type": "stream",
     "text": [
      "/usr/local/lib/python3.6/dist-packages/sklearn/linear_model/_sag.py:329: ConvergenceWarning: The max_iter was reached which means the coef_ did not converge\n",
      "  \"the coef_ did not converge\", ConvergenceWarning)\n"
     ]
    },
    {
     "data": {
      "text/plain": [
       "LogisticRegression(C=0.1, n_jobs=50, penalty='l1', random_state=7,\n",
       "                   solver='saga')"
      ]
     },
     "execution_count": 8,
     "metadata": {},
     "output_type": "execute_result"
    }
   ],
   "source": [
    "X_train_validation, X_test, y_train_validation, y_test = train_test_split(X, y, \n",
    "                                                                          test_size=0.1, \n",
    "                                                                          stratify=y, \n",
    "                                                                          random_state=42)\n",
    "\n",
    "X_train, X_val, y_train, y_val = train_test_split(X_train_validation, y_train_validation, \n",
    "                                                  test_size=0.2, \n",
    "                                                  stratify=y_train_validation, \n",
    "                                                  random_state=42)\n",
    "\n",
    "scaler = StandardScaler()\n",
    "scaler.fit(X_train)\n",
    "X_train = scaler.transform(X_train)\n",
    "X_val = scaler.transform(X_val)\n",
    "\n",
    "clf = LogisticRegression(penalty='l1', solver='saga', C=0.1, random_state=7, max_iter=100, n_jobs=50)\n",
    "clf.fit(X_train, y_train)"
   ]
  },
  {
   "cell_type": "code",
   "execution_count": 9,
   "id": "9c2c77f8-ffa1-4ee4-9eca-30c21a2a91d5",
   "metadata": {},
   "outputs": [],
   "source": [
    "y_val_preds = clf.predict(X_val)\n",
    "y_train_preds = clf.predict(X_train)"
   ]
  },
  {
   "cell_type": "code",
   "execution_count": 10,
   "id": "28c81d09-96ea-42f0-b66e-19aedb0ccfba",
   "metadata": {},
   "outputs": [
    {
     "name": "stdout",
     "output_type": "stream",
     "text": [
      "\n",
      "Training set scores:\n",
      "Accuracy: 0.8965034965034965\n",
      "Precision: 0.8793572987674861\n",
      "Recall: 0.873202262425817\n",
      "F1 Score: 0.8759456523193152\n",
      "\n",
      "Validation set scores:\n",
      "Accuracy: 0.875058275058275\n",
      "Precision: 0.8533432186778267\n",
      "Recall: 0.844289200577272\n",
      "F1 Score: 0.8481594269729426\n"
     ]
    }
   ],
   "source": [
    "print(\"\\nTraining set scores:\")\n",
    "print(\"Accuracy:\", accuracy_score(y_train, y_train_preds))\n",
    "print(\"Precision:\", precision_score(y_train, y_train_preds, average='macro'))\n",
    "print(\"Recall:\", recall_score(y_train, y_train_preds, average='macro'))\n",
    "print(\"F1 Score:\", f1_score(y_train, y_train_preds, average='macro'))\n",
    "\n",
    "print(\"\\nValidation set scores:\")\n",
    "print(\"Accuracy:\", accuracy_score(y_val, y_val_preds))\n",
    "print(\"Precision:\", precision_score(y_val, y_val_preds, average='macro'))\n",
    "print(\"Recall:\", recall_score(y_val, y_val_preds, average='macro'))\n",
    "print(\"F1 Score:\", f1_score(y_val, y_val_preds, average='macro'))"
   ]
  },
  {
   "cell_type": "code",
   "execution_count": 11,
   "id": "4d0224da-9a22-4287-9b5e-44e984f95ecc",
   "metadata": {},
   "outputs": [
    {
     "data": {
      "image/png": "[encoded data removed]",
      "text/plain": [
       "<Figure size 576x432 with 2 Axes>"
      ]
     },
     "metadata": {
      "needs_background": "light"
     },
     "output_type": "display_data"
    }
   ],
   "source": [
    "cm = confusion_matrix(y_val, y_val_preds)\n",
    "plt.figure(figsize=(8, 6))\n",
    "sns.heatmap(cm, annot=True, fmt='d', cmap='Blues', xticklabels=class_labels, yticklabels=class_labels)\n",
    "plt.title('Confusion matrix')\n",
    "plt.xlabel('Predicted')\n",
    "plt.ylabel('True')\n",
    "plt.show()"
   ]
  },
  {
   "cell_type": "code",
   "execution_count": 12,
   "id": "da83ac1f-cd83-4353-af9c-4b9270b89816",
   "metadata": {},
   "outputs": [
    {
     "name": "stdout",
     "output_type": "stream",
     "text": [
      "              precision    recall  f1-score   support\n",
      "\n",
      "    backhand       0.83      0.77      0.80      1364\n",
      "    forehand       0.82      0.80      0.81      1651\n",
      "       other       0.93      0.95      0.94      4422\n",
      "       serve       0.94      0.96      0.95      1143\n",
      "\n",
      "    accuracy                           0.90      8580\n",
      "   macro avg       0.88      0.87      0.88      8580\n",
      "weighted avg       0.90      0.90      0.90      8580\n",
      "\n"
     ]
    }
   ],
   "source": [
    "print(classification_report(y_train, y_train_preds))"
   ]
  },
  {
   "cell_type": "code",
   "execution_count": 13,
   "id": "6a13ad88-eb7d-442e-bce7-da766808e3a8",
   "metadata": {},
   "outputs": [
    {
     "name": "stdout",
     "output_type": "stream",
     "text": [
      "              precision    recall  f1-score   support\n",
      "\n",
      "    backhand       0.80      0.72      0.76       341\n",
      "    forehand       0.79      0.77      0.78       413\n",
      "       other       0.92      0.94      0.93      1106\n",
      "       serve       0.91      0.94      0.93       285\n",
      "\n",
      "    accuracy                           0.88      2145\n",
      "   macro avg       0.85      0.84      0.85      2145\n",
      "weighted avg       0.87      0.88      0.87      2145\n",
      "\n"
     ]
    }
   ],
   "source": [
    "print(classification_report(y_val, y_val_preds))"
   ]
  },
  {
   "cell_type": "markdown",
   "id": "f7d58c9b-ad32-46e8-8071-f30d38370e65",
   "metadata": {},
   "source": [
    "Odmah možemo da primetimo dosta bolje ponašanje na čistijem skupu podataka, što je i bilo očekivano."
   ]
  },
  {
   "cell_type": "markdown",
   "id": "70626762-75e6-4dfd-ad98-27abec7371f1",
   "metadata": {},
   "source": [
    "## Pronalaženje najboljih hiperparametara"
   ]
  },
  {
   "cell_type": "code",
   "execution_count": 14,
   "id": "e7629180-33e7-4493-86bf-5d45659104d4",
   "metadata": {},
   "outputs": [],
   "source": [
    "X_train_validation, X_test, y_train_validation, y_test = train_test_split(X, y,\n",
    "                                                                          test_size=0.2, \n",
    "                                                                          stratify=y, \n",
    "                                                                          random_state=42)"
   ]
  },
  {
   "cell_type": "code",
   "execution_count": 15,
   "id": "9e3ac8c3-4e3f-43af-81de-4b71b7cc0f4e",
   "metadata": {},
   "outputs": [],
   "source": [
    "X_train, X_val, y_train, y_val = train_test_split(X_train_validation, y_train_validation, \n",
    "                                                  test_size=0.2, \n",
    "                                                  stratify=y_train_validation, \n",
    "                                                  random_state=42)"
   ]
  },
  {
   "cell_type": "code",
   "execution_count": 16,
   "id": "92069526-2da0-42f3-872d-631f93e06a19",
   "metadata": {},
   "outputs": [],
   "source": [
    "kf = StratifiedKFold(n_splits=3, shuffle=True, random_state=42)\n",
    "\n",
    "params = [\n",
    "    {\n",
    "        'logreg__penalty': ['l1', 'l2'],\n",
    "        'logreg__C': [10**i for i in range(-5, 5)],\n",
    "        'logreg__solver': ['saga'],\n",
    "    },\n",
    "    {\n",
    "        'logreg__penalty': ['elasticnet'],\n",
    "        'logreg__C': [10**i for i in range(-5, 5)],\n",
    "        'logreg__solver': ['saga'],\n",
    "        'logreg__l1_ratio': [0.0, 0.05, 0.1, 0.2]  # only used for elasticnet\n",
    "    }\n",
    "]\n",
    "\n",
    "grid_model = Pipeline(steps=[('scaler', StandardScaler()),\n",
    "                             ('logreg', LogisticRegression(max_iter=1000, random_state=42))])"
   ]
  },
  {
   "cell_type": "markdown",
   "id": "c5bc03dc-85ce-49a3-bc51-a74da00630e3",
   "metadata": {},
   "source": [
    "Prvo se vrši pretraga prostora za parametre bez opcije `elastic_net`, a onda koristeći `elastic_net` i samo u tom slučaju smisleni `l1_ratio`."
   ]
  },
  {
   "cell_type": "markdown",
   "id": "862b3532-d24f-463c-900b-cdb154a5b93d",
   "metadata": {},
   "source": [
    "### Analiza hiperparametara bez `elastic_net`-a"
   ]
  },
  {
   "cell_type": "code",
   "execution_count": 17,
   "id": "d33523fc-d16c-415d-9098-ce4466c548ec",
   "metadata": {
    "scrolled": true,
    "tags": []
   },
   "outputs": [
    {
     "name": "stdout",
     "output_type": "stream",
     "text": [
      "Fitting 3 folds for each of 20 candidates, totalling 60 fits\n",
      "Time taken: 00:12:14.64\n"
     ]
    },
    {
     "name": "stderr",
     "output_type": "stream",
     "text": [
      "/usr/local/lib/python3.6/dist-packages/sklearn/linear_model/_sag.py:329: ConvergenceWarning: The max_iter was reached which means the coef_ did not converge\n",
      "  \"the coef_ did not converge\", ConvergenceWarning)\n"
     ]
    }
   ],
   "source": [
    "start = time.time()\n",
    "\n",
    "grid_params_0 = GridSearchCV(grid_model, param_grid=params[0], scoring='f1_macro', verbose=True,\n",
    "                             cv=kf, return_train_score=True, n_jobs=30)\n",
    "grid_params_0.fit(X_train_validation, y_train_validation)\n",
    "\n",
    "end = time.time()\n",
    "print_time_taken(start, end)"
   ]
  },
  {
   "cell_type": "code",
   "execution_count": 18,
   "id": "e819dc72-d098-47ac-b164-85b7edb2042d",
   "metadata": {},
   "outputs": [
    {
     "name": "stdout",
     "output_type": "stream",
     "text": [
      "Best score (GridSearchCV): 0.8843876022602516\n",
      "Best parameters: {'logreg__C': 1000, 'logreg__penalty': 'l2', 'logreg__solver': 'saga'}\n",
      "\n",
      "Training set scores:\n",
      "Accuracy: 0.9352216102806189\n",
      "Precision: 0.9241427363847067\n",
      "Recall: 0.9210148994875369\n",
      "F1 Score: 0.9225037277771675\n",
      "\n",
      "Validation set scores:\n",
      "Accuracy: 0.940744625065548\n",
      "Precision: 0.930341160935152\n",
      "Recall: 0.9340554687509437\n",
      "F1 Score: 0.9321723014175851\n"
     ]
    }
   ],
   "source": [
    "best_model = grid_params_0.best_estimator_\n",
    "\n",
    "print(f\"Best score (GridSearchCV): {grid_params_0.best_score_}\")\n",
    "print(f\"Best parameters: {grid_params_0.best_params_}\\n\")\n",
    "\n",
    "y_train_preds = best_model.predict(X_train)\n",
    "print(\"Training set scores:\")\n",
    "print(\"Accuracy:\", accuracy_score(y_train, y_train_preds))\n",
    "print(\"Precision:\", precision_score(y_train, y_train_preds, average='macro'))\n",
    "print(\"Recall:\", recall_score(y_train, y_train_preds, average='macro'))\n",
    "print(\"F1 Score:\", f1_score(y_train, y_train_preds, average='macro'))\n",
    "\n",
    "y_val_preds = best_model.predict(X_val)\n",
    "print(\"\\nValidation set scores:\")\n",
    "print(\"Accuracy:\", accuracy_score(y_val, y_val_preds))\n",
    "print(\"Precision:\", precision_score(y_val, y_val_preds, average='macro'))\n",
    "print(\"Recall:\", recall_score(y_val, y_val_preds, average='macro'))\n",
    "print(\"F1 Score:\", f1_score(y_val, y_val_preds, average='macro'))"
   ]
  },
  {
   "cell_type": "code",
   "execution_count": 19,
   "id": "db869a10-c97f-45a0-9159-959666bc3d5c",
   "metadata": {},
   "outputs": [
    {
     "data": {
      "image/png": "[encoded data removed]",
      "text/plain": [
       "<Figure size 720x576 with 2 Axes>"
      ]
     },
     "metadata": {
      "needs_background": "light"
     },
     "output_type": "display_data"
    }
   ],
   "source": [
    "Cs = params[0]['logreg__C']\n",
    "penalties = params[0]['logreg__penalty']\n",
    "\n",
    "cv_results = pd.DataFrame(grid_params_0.cv_results_)\n",
    "cv_test_score = cv_results['mean_test_score'].values.reshape(len(Cs), len(penalties))\n",
    "\n",
    "plt.figure(figsize=(10, 8))\n",
    "\n",
    "plt.ylabel('C')\n",
    "plt.yticks(np.arange(0, len(Cs)), Cs)\n",
    "\n",
    "plt.xlabel('penalties')\n",
    "plt.xticks(np.arange(0, len(penalties)), penalties)\n",
    "\n",
    "plt.imshow(cv_test_score, cmap='viridis')\n",
    "plt.colorbar()\n",
    "plt.show()"
   ]
  },
  {
   "cell_type": "markdown",
   "id": "d5e22e30-ca82-45f7-a284-fb712c4a43fb",
   "metadata": {},
   "source": [
    "Praktično je ista situacija kao kod neprečišćenog skupa podataka, pa je ostavljen isti komentar.\n",
    "\n",
    "Neće biti navođeno sve da se ne zatrpava sveska. Na kraju su odabrani najbolji parametri iz prvog pokretanja `{'logreg__C': 10, 'logreg__penalty': 'l2', 'logreg__solver': 'saga'}`. Videćemo koji rezultat daje sledeći skup parametara gde će se koristiti elastic_net, pa ćemo odabrati konačan skup parametara za treniranje modela nad početnim trening i validacionim skupom. Na kraju, ocenićemo model na test skupu."
   ]
  },
  {
   "cell_type": "markdown",
   "id": "46507bf0-e002-4872-a038-8d7c4f58c38b",
   "metadata": {},
   "source": [
    "### Analiza hiperparametara sa `elastic_net`-om"
   ]
  },
  {
   "cell_type": "code",
   "execution_count": 20,
   "id": "b441993e-4eaf-417c-b36f-94fe18eb138b",
   "metadata": {},
   "outputs": [
    {
     "name": "stdout",
     "output_type": "stream",
     "text": [
      "Fitting 3 folds for each of 40 candidates, totalling 120 fits\n",
      "Time taken: 00:15:26.68\n"
     ]
    },
    {
     "name": "stderr",
     "output_type": "stream",
     "text": [
      "/usr/local/lib/python3.6/dist-packages/sklearn/linear_model/_sag.py:329: ConvergenceWarning: The max_iter was reached which means the coef_ did not converge\n",
      "  \"the coef_ did not converge\", ConvergenceWarning)\n"
     ]
    }
   ],
   "source": [
    "start = time.time()\n",
    "\n",
    "grid_params_1 = GridSearchCV(grid_model, param_grid=params[1], scoring='f1_macro', verbose=True,\n",
    "                             cv=kf, return_train_score=True, n_jobs=50)\n",
    "grid_params_1.fit(X_train_validation, y_train_validation)\n",
    "\n",
    "end = time.time()\n",
    "print_time_taken(start, end)"
   ]
  },
  {
   "cell_type": "code",
   "execution_count": 21,
   "id": "26c1a543-4056-4222-9909-ba7946ef6d10",
   "metadata": {},
   "outputs": [
    {
     "name": "stdout",
     "output_type": "stream",
     "text": [
      "Best score (GridSearchCV): 0.8843876022602516\n",
      "Best parameters: {'logreg__C': 1000, 'logreg__l1_ratio': 0.0, 'logreg__penalty': 'elasticnet', 'logreg__solver': 'saga'}\n",
      "\n",
      "Training set scores:\n",
      "Accuracy: 0.9352216102806189\n",
      "Precision: 0.9241427363847067\n",
      "Recall: 0.9210148994875369\n",
      "F1 Score: 0.9225037277771675\n",
      "\n",
      "Validation set scores:\n",
      "Accuracy: 0.940744625065548\n",
      "Precision: 0.930341160935152\n",
      "Recall: 0.9340554687509437\n",
      "F1 Score: 0.9321723014175851\n"
     ]
    }
   ],
   "source": [
    "best_model = grid_params_1.best_estimator_\n",
    "\n",
    "print(f\"Best score (GridSearchCV): {grid_params_1.best_score_}\")\n",
    "print(f\"Best parameters: {grid_params_1.best_params_}\\n\")\n",
    "\n",
    "y_train_preds = best_model.predict(X_train)\n",
    "print(\"Training set scores:\")\n",
    "print(\"Accuracy:\", accuracy_score(y_train, y_train_preds))\n",
    "print(\"Precision:\", precision_score(y_train, y_train_preds, average='macro'))\n",
    "print(\"Recall:\", recall_score(y_train, y_train_preds, average='macro'))\n",
    "print(\"F1 Score:\", f1_score(y_train, y_train_preds, average='macro'))\n",
    "\n",
    "y_val_preds = best_model.predict(X_val)\n",
    "print(\"\\nValidation set scores:\")\n",
    "print(\"Accuracy:\", accuracy_score(y_val, y_val_preds))\n",
    "print(\"Precision:\", precision_score(y_val, y_val_preds, average='macro'))\n",
    "print(\"Recall:\", recall_score(y_val, y_val_preds, average='macro'))\n",
    "print(\"F1 Score:\", f1_score(y_val, y_val_preds, average='macro'))"
   ]
  },
  {
   "cell_type": "code",
   "execution_count": 22,
   "id": "72a0dd6f-791e-406f-b345-a8851e2190e9",
   "metadata": {},
   "outputs": [
    {
     "data": {
      "image/png": "[encoded data removed]",
      "text/plain": [
       "<Figure size 720x576 with 2 Axes>"
      ]
     },
     "metadata": {
      "needs_background": "light"
     },
     "output_type": "display_data"
    }
   ],
   "source": [
    "Cs = params[1]['logreg__C']\n",
    "l1_ratios = params[1]['logreg__l1_ratio']\n",
    "\n",
    "cv_results = pd.DataFrame(grid_params_1.cv_results_)\n",
    "cv_test_score = cv_results['mean_test_score'].values.reshape(len(Cs), len(l1_ratios))\n",
    "\n",
    "plt.figure(figsize=(10, 8))\n",
    "\n",
    "plt.ylabel('C')\n",
    "plt.yticks(np.arange(0, len(Cs)), Cs)\n",
    "\n",
    "plt.xlabel('l1_ratio')\n",
    "plt.xticks(np.arange(0, len(l1_ratios)), l1_ratios)\n",
    "\n",
    "plt.imshow(cv_test_score, cmap='viridis')\n",
    "plt.colorbar()\n",
    "plt.show()"
   ]
  },
  {
   "cell_type": "markdown",
   "id": "d3575229-8ec3-4afa-93d5-63f23ec38e75",
   "metadata": {},
   "source": [
    "Ovo je ujedno i konačni model i kvalitet modela, koji je dobijen ugnježdenom unakrsnom validacijom. Neće biti treniran model nad svim podacima iz skupa (uključujući i test), nego će biti eksportovana verzija trenirana nad trening i validacionim skupom da bi se prilikom demonstracije ili bilo kog daljeg koraka mogli koristiti primeri iz test skupa i dobijala relevantna predviđanja.\n",
    "\n",
    "Napomenućemo samo da je ovde vrednost max_iter povećana na 1000, jer je sa 100 iteracija model dosta bolje rezultate za validacioni skup, tako da je bilo još prostora za trening. Čak i sa 1000, deluje da ima još potencijala (u nadi da neće overfitovati). Tako da stajemo ovde i koristimo ovaj najbolji model."
   ]
  },
  {
   "cell_type": "code",
   "execution_count": 23,
   "id": "4f291efb-95e3-4e1f-ac32-7b4c88dd85cb",
   "metadata": {},
   "outputs": [],
   "source": [
    "y_val_preds = best_model.predict(X_val)\n",
    "y_train_preds = best_model.predict(X_train)"
   ]
  },
  {
   "cell_type": "code",
   "execution_count": 24,
   "id": "17ea967f-de07-41fc-a050-0a4adb019dd4",
   "metadata": {},
   "outputs": [
    {
     "name": "stdout",
     "output_type": "stream",
     "text": [
      "\n",
      "Training set scores:\n",
      "Accuracy: 0.9352216102806189\n",
      "Precision: 0.9241427363847067\n",
      "Recall: 0.9210148994875369\n",
      "F1 Score: 0.9225037277771675\n",
      "\n",
      "Validation set scores:\n",
      "Accuracy: 0.940744625065548\n",
      "Precision: 0.930341160935152\n",
      "Recall: 0.9340554687509437\n",
      "F1 Score: 0.9321723014175851\n"
     ]
    }
   ],
   "source": [
    "print(\"\\nTraining set scores:\")\n",
    "print(\"Accuracy:\", accuracy_score(y_train, y_train_preds))\n",
    "print(\"Precision:\", precision_score(y_train, y_train_preds, average='macro'))\n",
    "print(\"Recall:\", recall_score(y_train, y_train_preds, average='macro'))\n",
    "print(\"F1 Score:\", f1_score(y_train, y_train_preds, average='macro'))\n",
    "\n",
    "print(\"\\nValidation set scores:\")\n",
    "print(\"Accuracy:\", accuracy_score(y_val, y_val_preds))\n",
    "print(\"Precision:\", precision_score(y_val, y_val_preds, average='macro'))\n",
    "print(\"Recall:\", recall_score(y_val, y_val_preds, average='macro'))\n",
    "print(\"F1 Score:\", f1_score(y_val, y_val_preds, average='macro'))"
   ]
  },
  {
   "cell_type": "code",
   "execution_count": 25,
   "id": "f87cbe73-fca8-4f2c-85ee-6e40f4963082",
   "metadata": {},
   "outputs": [
    {
     "data": {
      "image/png": "[encoded data removed]",
      "text/plain": [
       "<Figure size 576x432 with 2 Axes>"
      ]
     },
     "metadata": {
      "needs_background": "light"
     },
     "output_type": "display_data"
    }
   ],
   "source": [
    "cm = confusion_matrix(y_val, y_val_preds)\n",
    "plt.figure(figsize=(8, 6))\n",
    "sns.heatmap(cm, annot=True, fmt='d', cmap='Blues', xticklabels=class_labels, yticklabels=class_labels)\n",
    "plt.title('Confusion matrix')\n",
    "plt.xlabel('Predicted')\n",
    "plt.ylabel('True')\n",
    "plt.show()"
   ]
  },
  {
   "cell_type": "code",
   "execution_count": 26,
   "id": "5a6b93f2-c804-4934-83b3-2e6efff2c91f",
   "metadata": {},
   "outputs": [
    {
     "name": "stdout",
     "output_type": "stream",
     "text": [
      "              precision    recall  f1-score   support\n",
      "\n",
      "    backhand       0.88      0.85      0.86      1213\n",
      "    forehand       0.88      0.88      0.88      1467\n",
      "       other       0.96      0.97      0.97      3930\n",
      "       serve       0.98      0.99      0.98      1016\n",
      "\n",
      "    accuracy                           0.94      7626\n",
      "   macro avg       0.92      0.92      0.92      7626\n",
      "weighted avg       0.93      0.94      0.93      7626\n",
      "\n"
     ]
    }
   ],
   "source": [
    "print(classification_report(y_train, y_train_preds))"
   ]
  },
  {
   "cell_type": "code",
   "execution_count": 27,
   "id": "24391ea9-ad7b-4755-98d1-28876d5ea9c7",
   "metadata": {},
   "outputs": [
    {
     "name": "stdout",
     "output_type": "stream",
     "text": [
      "              precision    recall  f1-score   support\n",
      "\n",
      "    backhand       0.89      0.90      0.90       303\n",
      "    forehand       0.88      0.88      0.88       367\n",
      "       other       0.97      0.96      0.96       983\n",
      "       serve       0.98      1.00      0.99       254\n",
      "\n",
      "    accuracy                           0.94      1907\n",
      "   macro avg       0.93      0.93      0.93      1907\n",
      "weighted avg       0.94      0.94      0.94      1907\n",
      "\n"
     ]
    }
   ],
   "source": [
    "print(classification_report(y_val, y_val_preds))"
   ]
  },
  {
   "cell_type": "markdown",
   "id": "96b230b3-dfd7-4b8c-ac67-bc805a5775f7",
   "metadata": {},
   "source": [
    "Možemo videti da se ovaj model dosta bolje ponaša, najviše zahvaljujući boljim podacima."
   ]
  },
  {
   "cell_type": "markdown",
   "id": "f7ab2c84-5aae-49fc-b3f0-8deb1f1ace9e",
   "metadata": {},
   "source": [
    "## Procena modela na test skupu"
   ]
  },
  {
   "cell_type": "code",
   "execution_count": 32,
   "id": "182d3c7c-af18-4963-9477-254403854b74",
   "metadata": {},
   "outputs": [
    {
     "name": "stdout",
     "output_type": "stream",
     "text": [
      "\n",
      "Test set scores:\n",
      "Accuracy: 0.9043624161073825\n",
      "Precision: 0.8897554754345818\n",
      "Recall: 0.8831610140775759\n",
      "F1 Score: 0.8863139226934603\n"
     ]
    }
   ],
   "source": [
    "y_test_preds = best_model.predict(X_test)\n",
    "\n",
    "print(\"\\nTest set scores:\")\n",
    "print(\"Accuracy:\", accuracy_score(y_test, y_test_preds))\n",
    "print(\"Precision:\", precision_score(y_test, y_test_preds, average='macro'))\n",
    "print(\"Recall:\", recall_score(y_test, y_test_preds, average='macro'))\n",
    "print(\"F1 Score:\", f1_score(y_test, y_test_preds, average='macro'))"
   ]
  },
  {
   "cell_type": "code",
   "execution_count": 33,
   "id": "86581f96-e24a-48d6-81ed-96f3a8cbd157",
   "metadata": {},
   "outputs": [
    {
     "data": {
      "image/png": "[encoded data removed]",
      "text/plain": [
       "<Figure size 576x432 with 2 Axes>"
      ]
     },
     "metadata": {
      "needs_background": "light"
     },
     "output_type": "display_data"
    }
   ],
   "source": [
    "cm = confusion_matrix(y_test, y_test_preds)\n",
    "plt.figure(figsize=(8, 6))\n",
    "sns.heatmap(cm, annot=True, fmt='d', cmap='Blues', xticklabels=class_labels, yticklabels=class_labels)\n",
    "plt.title('Confusion matrix')\n",
    "plt.xlabel('Predicted')\n",
    "plt.ylabel('True')\n",
    "plt.show()"
   ]
  },
  {
   "cell_type": "code",
   "execution_count": 34,
   "id": "9a86d79b-919b-4b74-a398-192e6850f4fb",
   "metadata": {},
   "outputs": [
    {
     "name": "stdout",
     "output_type": "stream",
     "text": [
      "              precision    recall  f1-score   support\n",
      "\n",
      "    backhand       0.83      0.83      0.83       379\n",
      "    forehand       0.82      0.78      0.80       459\n",
      "       other       0.94      0.96      0.95      1229\n",
      "       serve       0.97      0.96      0.96       317\n",
      "\n",
      "    accuracy                           0.90      2384\n",
      "   macro avg       0.89      0.88      0.89      2384\n",
      "weighted avg       0.90      0.90      0.90      2384\n",
      "\n"
     ]
    }
   ],
   "source": [
    "print(classification_report(y_test, y_test_preds))"
   ]
  },
  {
   "cell_type": "markdown",
   "id": "82afd151-90f1-4985-88d0-0074cf346f30",
   "metadata": {},
   "source": [
    "Na kraju možemo da primetimo da smo dosta popravili onaj inicijalni model, koji je kreiran nasumičnim probanjem parametara, odnosno pronalaženje hiperparametara je donelo rezultat. Ipak, vidimo da, očekivano, model ne daje tako dobre rezultate za test skup, validacioni skup. Malo smo se preprilagodili podacima, verovatno između ostalog baš korišćenjem velikog broja iteracija. Ovo je konačan kvalitet razvijenog modela. Ovaj model je zahvaljujući dobro labeliranom skupu podataka značajno bolji od prethodnog modela dobijenog primenom logističke regresije."
   ]
  },
  {
   "cell_type": "markdown",
   "id": "f6063d60-1dc2-46a1-b44a-6f652957372c",
   "metadata": {},
   "source": [
    "# Čuvanje modela, odnosno celog pipeline-a za kasniju upotrebu"
   ]
  },
  {
   "cell_type": "code",
   "execution_count": 35,
   "id": "e1203788-fbac-4b8e-977c-ed134ea1e760",
   "metadata": {},
   "outputs": [],
   "source": [
    "import pickle\n",
    "\n",
    "if not os.path.exists('../../models'):\n",
    "    os.makedirs('../../models')\n",
    "        \n",
    "with open('../../models/01_logistic_regression_clean_data.pkl', 'wb') as f:\n",
    "    pickle.dump(best_model, f)"
   ]
  },
  {
   "cell_type": "code",
   "execution_count": null,
   "id": "b2843800-9d18-44f6-b11f-8772dbccfc6b",
   "metadata": {},
   "outputs": [],
   "source": []
  }
 ],
 "metadata": {
  "kernelspec": {
   "display_name": "Python 3",
   "language": "python",
   "name": "python3"
  },
  "language_info": {
   "codemirror_mode": {
    "name": "ipython",
    "version": 3
   },
   "file_extension": ".py",
   "mimetype": "text/x-python",
   "name": "python",
   "nbconvert_exporter": "python",
   "pygments_lexer": "ipython3",
   "version": "3.6.9"
  }
 },
 "nbformat": 4,
 "nbformat_minor": 5
}
