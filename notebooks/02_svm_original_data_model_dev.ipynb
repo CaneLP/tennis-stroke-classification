{
 "cells": [
  {
   "cell_type": "markdown",
   "id": "dd819ccf-f4b2-4b86-9975-0719f714bc81",
   "metadata": {},
   "source": [
    "# Imports"
   ]
  },
  {
   "cell_type": "code",
   "execution_count": 1,
   "id": "a84a5504-151c-4ed4-9be4-b0bed96cc4c2",
   "metadata": {},
   "outputs": [],
   "source": [
    "import pandas as pd\n",
    "import numpy as np\n",
    "import os\n",
    "import time\n",
    "from PIL import Image\n",
    "\n",
    "from sklearn.model_selection import train_test_split, StratifiedKFold, cross_validate, GridSearchCV\n",
    "from sklearn.svm import SVC\n",
    "from sklearn.preprocessing import StandardScaler\n",
    "from sklearn.pipeline import make_pipeline, Pipeline\n",
    "from sklearn.metrics import (accuracy_score, precision_score, recall_score, \n",
    "                             f1_score, confusion_matrix, classification_report,\n",
    "                             roc_curve, auc, roc_auc_score, make_scorer)\n",
    "\n",
    "import matplotlib.pyplot as plt\n",
    "import seaborn as sns"
   ]
  },
  {
   "cell_type": "markdown",
   "id": "e5c12a73-cbcd-4e2f-9fae-cb3f685133f1",
   "metadata": {},
   "source": [
    "# Util funcs"
   ]
  },
  {
   "cell_type": "markdown",
   "id": "0a819d18-0741-4560-80d5-4049f05d5b9d",
   "metadata": {},
   "source": [
    "Podaci su prečišćeni korišćenjem funkcije `handle_invalid_action_images(dataset)` dostupnoj i korišćenoj u svesci `../02_dataset_creation/07_handle_invalid_action_images.ipynb`, tako da u nastavku nisu neophodne dodatne provere u vezi formata slika, i sl."
   ]
  },
  {
   "cell_type": "code",
   "execution_count": 2,
   "id": "2ea272a7-f54a-4242-9f86-3438396a1c98",
   "metadata": {},
   "outputs": [],
   "source": [
    "def load_data(path, y):\n",
    "    X = []\n",
    "    path = os.path.join(path, y)\n",
    "    for image_file in os.listdir(path):\n",
    "        image_path = os.path.join(path, image_file)\n",
    "        if os.path.isfile(image_path):\n",
    "            with Image.open(image_path) as img:\n",
    "                img = img.convert('RGB')\n",
    "                X.append(np.array(img))\n",
    "    \n",
    "    return X, [y] * len(X)"
   ]
  },
  {
   "cell_type": "code",
   "execution_count": 3,
   "id": "1fa90687-fc31-4ed9-94c3-ae928637d672",
   "metadata": {},
   "outputs": [],
   "source": [
    "def print_time_taken(start_time, end_time):\n",
    "    elapsed_time = end_time - start_time\n",
    "    hours, rem = divmod(elapsed_time, 3600)\n",
    "    minutes, seconds = divmod(rem, 60)\n",
    "    print(f\"Time taken: {int(hours):02}:{int(minutes):02}:{seconds:05.2f}\")"
   ]
  },
  {
   "cell_type": "markdown",
   "id": "320d48a8-22a9-49ae-9cf9-7799ce3e4db3",
   "metadata": {},
   "source": [
    "# Korišćenje skupa dobijenog automatskom obradom, pre ručne provere i relabeliranja"
   ]
  },
  {
   "cell_type": "markdown",
   "id": "27ea44d2-3fb2-4b27-b629-6f7259f6e388",
   "metadata": {},
   "source": [
    "## Učitavanje i preprocesiranje podataka"
   ]
  },
  {
   "cell_type": "code",
   "execution_count": 4,
   "id": "c50a180d-e1f1-41b5-a012-0e2652a58973",
   "metadata": {
    "scrolled": true,
    "tags": []
   },
   "outputs": [],
   "source": [
    "images = []\n",
    "labels = []\n",
    "for i, label in enumerate(os.listdir('/app/tennis_data/stroke_recognition_dataset/master/v1.0/action_images_dataset_original_v1.0/bottom')):\n",
    "    X, y = load_data('/app/tennis_data/stroke_recognition_dataset/master/v1.0/action_images_dataset_original_v1.0/bottom', label)\n",
    "    images += X\n",
    "    labels += y\n",
    "images = np.array(images)"
   ]
  },
  {
   "cell_type": "code",
   "execution_count": 5,
   "id": "821784a1-56de-4e82-a01b-0dec3ed858de",
   "metadata": {},
   "outputs": [],
   "source": [
    "X = images.reshape((len(images), -1))\n",
    "y = labels"
   ]
  },
  {
   "cell_type": "code",
   "execution_count": 6,
   "id": "59acfa5e-d038-41af-b242-b255fefb0a0d",
   "metadata": {},
   "outputs": [],
   "source": [
    "class_labels = ['backhand', 'forehand', 'other', 'serve']"
   ]
  },
  {
   "cell_type": "code",
   "execution_count": 7,
   "id": "b0dd8a13-1334-4184-a2c5-cf2df9f2edc9",
   "metadata": {},
   "outputs": [
    {
     "name": "stdout",
     "output_type": "stream",
     "text": [
      "Backhands count: 2038, Forehands count: 2412, Other count: 6217, Serve count: 1634\n",
      "All strokes count: 12301\n"
     ]
    }
   ],
   "source": [
    "bh_cnt = sum([1 for l in y if l == 'backhand'])\n",
    "fh_cnt = sum([1 for l in y if l == 'forehand'])\n",
    "other_cnt = sum([1 for l in y if l == 'other'])\n",
    "serve_cnt = sum([1 for l in y if l == 'serve'])\n",
    "print(f'Backhands count: {bh_cnt}, Forehands count: {fh_cnt}, Other count: {other_cnt}, Serve count: {serve_cnt}')\n",
    "print(f'All strokes count: {len(y)}')"
   ]
  },
  {
   "cell_type": "markdown",
   "id": "9e973e98-88a4-4998-876f-7feea0f3a904",
   "metadata": {},
   "source": [
    "## Isprobavanje metode potpornih vektora"
   ]
  },
  {
   "cell_type": "markdown",
   "id": "1e9cd094-198e-4a75-b189-6436a6f925d6",
   "metadata": {},
   "source": [
    "**Napomena da je u celom projektu korišćeno determinističko razdvajanje na trening, validacioni i test skup (random_state=42), tako da je analiza test skupa pokrenuta tek na kraju celog projekta u svakoj svesci za svaki model.**"
   ]
  },
  {
   "cell_type": "code",
   "execution_count": 8,
   "id": "6fa198f9-007b-4d4a-8758-f27eb066389c",
   "metadata": {},
   "outputs": [
    {
     "data": {
      "text/plain": [
       "SVC(random_state=7)"
      ]
     },
     "execution_count": 8,
     "metadata": {},
     "output_type": "execute_result"
    }
   ],
   "source": [
    "X_train_validation, X_test, y_train_validation, y_test = train_test_split(X, y, \n",
    "                                                                          test_size=0.1, \n",
    "                                                                          stratify=y, \n",
    "                                                                          random_state=42)\n",
    "\n",
    "X_train, X_val, y_train, y_val = train_test_split(X_train_validation, y_train_validation, \n",
    "                                                  test_size=0.2, \n",
    "                                                  stratify=y_train_validation, \n",
    "                                                  random_state=42)\n",
    "\n",
    "scaler = StandardScaler()\n",
    "scaler.fit(X_train)\n",
    "X_train = scaler.transform(X_train)\n",
    "X_val = scaler.transform(X_val)\n",
    "\n",
    "clf = SVC(kernel='rbf', gamma='scale', shrinking=True, random_state=7)\n",
    "clf.fit(X_train, y_train)"
   ]
  },
  {
   "cell_type": "code",
   "execution_count": 9,
   "id": "9c2c77f8-ffa1-4ee4-9eca-30c21a2a91d5",
   "metadata": {},
   "outputs": [],
   "source": [
    "y_val_preds = clf.predict(X_val)\n",
    "y_train_preds = clf.predict(X_train)"
   ]
  },
  {
   "cell_type": "code",
   "execution_count": 10,
   "id": "28c81d09-96ea-42f0-b66e-19aedb0ccfba",
   "metadata": {},
   "outputs": [
    {
     "name": "stdout",
     "output_type": "stream",
     "text": [
      "\n",
      "Training set scores:\n",
      "Accuracy: 0.841576332429991\n",
      "Precision: 0.8349035257459947\n",
      "Recall: 0.8181661857386451\n",
      "F1 Score: 0.825545830384464\n",
      "\n",
      "Validation set scores:\n",
      "Accuracy: 0.8107497741644083\n",
      "Precision: 0.7952100740147309\n",
      "Recall: 0.778661719635221\n",
      "F1 Score: 0.7847659448574731\n"
     ]
    }
   ],
   "source": [
    "print(\"\\nTraining set scores:\")\n",
    "print(\"Accuracy:\", accuracy_score(y_train, y_train_preds))\n",
    "print(\"Precision:\", precision_score(y_train, y_train_preds, average='macro'))\n",
    "print(\"Recall:\", recall_score(y_train, y_train_preds, average='macro'))\n",
    "print(\"F1 Score:\", f1_score(y_train, y_train_preds, average='macro'))\n",
    "\n",
    "print(\"\\nValidation set scores:\")\n",
    "print(\"Accuracy:\", accuracy_score(y_val, y_val_preds))\n",
    "print(\"Precision:\", precision_score(y_val, y_val_preds, average='macro'))\n",
    "print(\"Recall:\", recall_score(y_val, y_val_preds, average='macro'))\n",
    "print(\"F1 Score:\", f1_score(y_val, y_val_preds, average='macro'))"
   ]
  },
  {
   "cell_type": "code",
   "execution_count": 11,
   "id": "4d0224da-9a22-4287-9b5e-44e984f95ecc",
   "metadata": {},
   "outputs": [
    {
     "data": {
      "image/png": "[encoded data removed]",
      "text/plain": [
       "<Figure size 576x432 with 2 Axes>"
      ]
     },
     "metadata": {
      "needs_background": "light"
     },
     "output_type": "display_data"
    }
   ],
   "source": [
    "cm = confusion_matrix(y_val, y_val_preds)\n",
    "plt.figure(figsize=(8, 6))\n",
    "sns.heatmap(cm, annot=True, fmt='d', cmap='Blues', xticklabels=class_labels, yticklabels=class_labels)\n",
    "plt.title('Confusion matrix')\n",
    "plt.xlabel('Predicted')\n",
    "plt.ylabel('True')\n",
    "plt.show()"
   ]
  },
  {
   "cell_type": "code",
   "execution_count": 12,
   "id": "da83ac1f-cd83-4353-af9c-4b9270b89816",
   "metadata": {},
   "outputs": [
    {
     "name": "stdout",
     "output_type": "stream",
     "text": [
      "              precision    recall  f1-score   support\n",
      "\n",
      "    backhand       0.78      0.70      0.74      1467\n",
      "    forehand       0.80      0.74      0.77      1737\n",
      "       other       0.86      0.91      0.88      4476\n",
      "       serve       0.91      0.93      0.92      1176\n",
      "\n",
      "    accuracy                           0.84      8856\n",
      "   macro avg       0.83      0.82      0.83      8856\n",
      "weighted avg       0.84      0.84      0.84      8856\n",
      "\n"
     ]
    }
   ],
   "source": [
    "print(classification_report(y_train, y_train_preds))"
   ]
  },
  {
   "cell_type": "code",
   "execution_count": 13,
   "id": "6a13ad88-eb7d-442e-bce7-da766808e3a8",
   "metadata": {},
   "outputs": [
    {
     "name": "stdout",
     "output_type": "stream",
     "text": [
      "              precision    recall  f1-score   support\n",
      "\n",
      "    backhand       0.72      0.59      0.65       367\n",
      "    forehand       0.75      0.71      0.73       434\n",
      "       other       0.84      0.89      0.86      1119\n",
      "       serve       0.87      0.92      0.90       294\n",
      "\n",
      "    accuracy                           0.81      2214\n",
      "   macro avg       0.80      0.78      0.78      2214\n",
      "weighted avg       0.81      0.81      0.81      2214\n",
      "\n"
     ]
    }
   ],
   "source": [
    "print(classification_report(y_val, y_val_preds))"
   ]
  },
  {
   "cell_type": "markdown",
   "id": "70626762-75e6-4dfd-ad98-27abec7371f1",
   "metadata": {},
   "source": [
    "## Pronalaženje najboljih hiperparametara"
   ]
  },
  {
   "cell_type": "code",
   "execution_count": 14,
   "id": "e7629180-33e7-4493-86bf-5d45659104d4",
   "metadata": {},
   "outputs": [],
   "source": [
    "X_train_validation, X_test, y_train_validation, y_test = train_test_split(X, y,\n",
    "                                                                          test_size=0.2, \n",
    "                                                                          stratify=y, \n",
    "                                                                          random_state=42)"
   ]
  },
  {
   "cell_type": "code",
   "execution_count": 15,
   "id": "9e3ac8c3-4e3f-43af-81de-4b71b7cc0f4e",
   "metadata": {},
   "outputs": [],
   "source": [
    "X_train, X_val, y_train, y_val = train_test_split(X_train_validation, y_train_validation, \n",
    "                                                  test_size=0.2, \n",
    "                                                  stratify=y_train_validation, \n",
    "                                                  random_state=42)"
   ]
  },
  {
   "cell_type": "code",
   "execution_count": 16,
   "id": "92069526-2da0-42f3-872d-631f93e06a19",
   "metadata": {},
   "outputs": [],
   "source": [
    "kf = StratifiedKFold(n_splits=3, shuffle=True, random_state=42)\n",
    "\n",
    "params = {\n",
    "    'svc__C': [10**i for i in range(-2, 2)],\n",
    "    'svc__kernel': ['sigmoid', 'rbf'],\n",
    "    'svc__gamma': [10**i for i in range(-2, 2)],\n",
    "}\n",
    "\n",
    "grid_model = Pipeline(steps=[('scaler', StandardScaler()),\n",
    "                             ('svc', SVC(random_state=42))])"
   ]
  },
  {
   "cell_type": "markdown",
   "id": "862b3532-d24f-463c-900b-cdb154a5b93d",
   "metadata": {},
   "source": [
    "### Analiza hiperparametara"
   ]
  },
  {
   "cell_type": "code",
   "execution_count": 17,
   "id": "d33523fc-d16c-415d-9098-ce4466c548ec",
   "metadata": {
    "scrolled": true,
    "tags": []
   },
   "outputs": [
    {
     "name": "stdout",
     "output_type": "stream",
     "text": [
      "Fitting 3 folds for each of 32 candidates, totalling 96 fits\n",
      "Time taken: 00:09:00.49\n"
     ]
    }
   ],
   "source": [
    "start = time.time()\n",
    "\n",
    "grid_params_svc = GridSearchCV(grid_model, param_grid=params, scoring='f1_macro', verbose=True,\n",
    "                               cv=kf, return_train_score=True, n_jobs=60)\n",
    "grid_params_svc.fit(X_train_validation, y_train_validation)\n",
    "\n",
    "end = time.time()\n",
    "print_time_taken(start, end)"
   ]
  },
  {
   "cell_type": "code",
   "execution_count": 18,
   "id": "e819dc72-d098-47ac-b164-85b7edb2042d",
   "metadata": {},
   "outputs": [
    {
     "name": "stdout",
     "output_type": "stream",
     "text": [
      "Best score (GridSearchCV): 0.7325205781131996\n",
      "Best parameters: {'svc__C': 1, 'svc__gamma': 0.01, 'svc__kernel': 'rbf'}\n",
      "\n",
      "Training set scores:\n",
      "Accuracy: 0.9336890243902439\n",
      "Precision: 0.9383699046322573\n",
      "Recall: 0.9251388208031404\n",
      "F1 Score: 0.931195952236737\n",
      "\n",
      "Validation set scores:\n",
      "Accuracy: 0.9232723577235772\n",
      "Precision: 0.9286128647978567\n",
      "Recall: 0.9130897947469048\n",
      "F1 Score: 0.9198001957145822\n"
     ]
    }
   ],
   "source": [
    "best_model = grid_params_svc.best_estimator_\n",
    "\n",
    "print(f\"Best score (GridSearchCV): {grid_params_svc.best_score_}\")\n",
    "print(f\"Best parameters: {grid_params_svc.best_params_}\\n\")\n",
    "\n",
    "y_train_preds = best_model.predict(X_train)\n",
    "print(\"Training set scores:\")\n",
    "print(\"Accuracy:\", accuracy_score(y_train, y_train_preds))\n",
    "print(\"Precision:\", precision_score(y_train, y_train_preds, average='macro'))\n",
    "print(\"Recall:\", recall_score(y_train, y_train_preds, average='macro'))\n",
    "print(\"F1 Score:\", f1_score(y_train, y_train_preds, average='macro'))\n",
    "\n",
    "y_val_preds = best_model.predict(X_val)\n",
    "print(\"\\nValidation set scores:\")\n",
    "print(\"Accuracy:\", accuracy_score(y_val, y_val_preds))\n",
    "print(\"Precision:\", precision_score(y_val, y_val_preds, average='macro'))\n",
    "print(\"Recall:\", recall_score(y_val, y_val_preds, average='macro'))\n",
    "print(\"F1 Score:\", f1_score(y_val, y_val_preds, average='macro'))"
   ]
  },
  {
   "cell_type": "code",
   "execution_count": 19,
   "id": "db869a10-c97f-45a0-9159-959666bc3d5c",
   "metadata": {},
   "outputs": [
    {
     "data": {
      "image/png": "[encoded data removed]",
      "text/plain": [
       "<Figure size 720x576 with 2 Axes>"
      ]
     },
     "metadata": {
      "needs_background": "light"
     },
     "output_type": "display_data"
    },
    {
     "data": {
      "image/png": "[encoded data removed]",
      "text/plain": [
       "<Figure size 720x576 with 2 Axes>"
      ]
     },
     "metadata": {
      "needs_background": "light"
     },
     "output_type": "display_data"
    }
   ],
   "source": [
    "Cs = params['svc__C']\n",
    "gammas = params['svc__gamma']\n",
    "kernels = params['svc__kernel']\n",
    "\n",
    "cv_results = pd.DataFrame(grid_params_svc.cv_results_)\n",
    "\n",
    "for kernel in kernels:\n",
    "    mask = cv_results['param_svc__kernel'] == kernel\n",
    "    cv_test_score = cv_results[mask]['mean_test_score'].values.reshape(len(gammas), len(Cs))\n",
    "    \n",
    "    plt.figure(figsize=(10, 8))\n",
    "    plt.imshow(cv_test_score, cmap='viridis', aspect='auto')\n",
    "    plt.colorbar()\n",
    "    \n",
    "    plt.ylabel('Gamma')\n",
    "    plt.yticks(np.arange(len(gammas)), gammas)\n",
    "    \n",
    "    plt.xlabel('C')\n",
    "    plt.xticks(np.arange(len(Cs)), Cs)\n",
    "    \n",
    "    plt.title(f'Kernel: {kernel}')\n",
    "    plt.show()"
   ]
  },
  {
   "cell_type": "markdown",
   "id": "d5e22e30-ca82-45f7-a284-fb712c4a43fb",
   "metadata": {},
   "source": [
    "Sa plotova vidimo da su optimalne vrednosti hiperparametra `gamma` za različite kernele u različitom smeru. Jednom odgovaraju veće, jednom manje. Tako da ćemo u nastavku pokrenuti pretragu parametara za svaki kernel posebno."
   ]
  },
  {
   "cell_type": "markdown",
   "id": "b0e092dd-f7b3-4a0a-b606-e7f664b417a6",
   "metadata": {},
   "source": [
    "### Za sigmoid kernel"
   ]
  },
  {
   "cell_type": "code",
   "execution_count": 21,
   "id": "759abf72-ca1f-4757-8769-f400e0203f39",
   "metadata": {
    "scrolled": true,
    "tags": []
   },
   "outputs": [
    {
     "name": "stdout",
     "output_type": "stream",
     "text": [
      "Fitting 3 folds for each of 48 candidates, totalling 144 fits\n",
      "Time taken: 00:07:44.43\n"
     ]
    }
   ],
   "source": [
    "start = time.time()\n",
    "\n",
    "params_sig = {\n",
    "    'svc__C': [10**i for i in range(0, 6)],\n",
    "    'svc__kernel': ['sigmoid'],\n",
    "    'svc__gamma': [10**i for i in range(-7, 1)],\n",
    "}\n",
    "\n",
    "grid_params_svc_sig = GridSearchCV(grid_model, param_grid=params_sig, scoring='f1_macro', verbose=True,\n",
    "                                   cv=kf, return_train_score=True, n_jobs=60)\n",
    "grid_params_svc_sig.fit(X_train_validation, y_train_validation)\n",
    "\n",
    "end = time.time()\n",
    "print_time_taken(start, end)"
   ]
  },
  {
   "cell_type": "code",
   "execution_count": 22,
   "id": "272f1e03-08ef-4ef6-a112-e92873667f90",
   "metadata": {},
   "outputs": [
    {
     "name": "stdout",
     "output_type": "stream",
     "text": [
      "Best score (GridSearchCV): 0.7608882945292509\n",
      "Best parameters: {'svc__C': 100000, 'svc__gamma': 1e-06, 'svc__kernel': 'sigmoid'}\n",
      "\n",
      "Training set scores:\n",
      "Accuracy: 0.834349593495935\n",
      "Precision: 0.8272817455105912\n",
      "Recall: 0.8139477864495107\n",
      "F1 Score: 0.8199341024997844\n",
      "\n",
      "Validation set scores:\n",
      "Accuracy: 0.8038617886178862\n",
      "Precision: 0.7869042756804914\n",
      "Recall: 0.7817262927381905\n",
      "F1 Score: 0.7834829312395551\n"
     ]
    }
   ],
   "source": [
    "best_model = grid_params_svc_sig.best_estimator_\n",
    "\n",
    "print(f\"Best score (GridSearchCV): {grid_params_svc_sig.best_score_}\")\n",
    "print(f\"Best parameters: {grid_params_svc_sig.best_params_}\\n\")\n",
    "\n",
    "y_train_preds = best_model.predict(X_train)\n",
    "print(\"Training set scores:\")\n",
    "print(\"Accuracy:\", accuracy_score(y_train, y_train_preds))\n",
    "print(\"Precision:\", precision_score(y_train, y_train_preds, average='macro'))\n",
    "print(\"Recall:\", recall_score(y_train, y_train_preds, average='macro'))\n",
    "print(\"F1 Score:\", f1_score(y_train, y_train_preds, average='macro'))\n",
    "\n",
    "y_val_preds = best_model.predict(X_val)\n",
    "print(\"\\nValidation set scores:\")\n",
    "print(\"Accuracy:\", accuracy_score(y_val, y_val_preds))\n",
    "print(\"Precision:\", precision_score(y_val, y_val_preds, average='macro'))\n",
    "print(\"Recall:\", recall_score(y_val, y_val_preds, average='macro'))\n",
    "print(\"F1 Score:\", f1_score(y_val, y_val_preds, average='macro'))"
   ]
  },
  {
   "cell_type": "code",
   "execution_count": 23,
   "id": "c44340b2-074c-4a4a-91d4-5c9bcccc0962",
   "metadata": {},
   "outputs": [
    {
     "data": {
      "image/png": "[encoded data removed]",
      "text/plain": [
       "<Figure size 720x576 with 2 Axes>"
      ]
     },
     "metadata": {
      "needs_background": "light"
     },
     "output_type": "display_data"
    }
   ],
   "source": [
    "Cs = params_sig['svc__C']\n",
    "gammas = params_sig['svc__gamma']\n",
    "kernels = params_sig['svc__kernel']\n",
    "\n",
    "cv_results = pd.DataFrame(grid_params_svc_sig.cv_results_)\n",
    "\n",
    "for kernel in kernels:\n",
    "    mask = cv_results['param_svc__kernel'] == kernel\n",
    "    cv_test_score = cv_results[mask]['mean_test_score'].values.reshape(len(gammas), len(Cs))\n",
    "    \n",
    "    plt.figure(figsize=(10, 8))\n",
    "    plt.imshow(cv_test_score, cmap='viridis', aspect='auto')\n",
    "    plt.colorbar()\n",
    "    \n",
    "    plt.ylabel('Gamma')\n",
    "    plt.yticks(np.arange(len(gammas)), gammas)\n",
    "    \n",
    "    plt.xlabel('C')\n",
    "    plt.xticks(np.arange(len(Cs)), Cs)\n",
    "    \n",
    "    plt.title(f'Kernel: {kernel}')\n",
    "    plt.show()"
   ]
  },
  {
   "cell_type": "markdown",
   "id": "ab0628b8-16b6-4824-9cf3-4c914b4a3e2d",
   "metadata": {},
   "source": [
    "### Za rbf kernel"
   ]
  },
  {
   "cell_type": "code",
   "execution_count": 24,
   "id": "4f4f0fd4-d5df-49ce-9a21-af0e7cbe8ef5",
   "metadata": {
    "scrolled": true,
    "tags": []
   },
   "outputs": [
    {
     "name": "stdout",
     "output_type": "stream",
     "text": [
      "Fitting 3 folds for each of 24 candidates, totalling 72 fits\n",
      "Time taken: 00:07:09.48\n"
     ]
    }
   ],
   "source": [
    "start = time.time()\n",
    "\n",
    "params_rbf = {\n",
    "    'svc__C': [10**i for i in range(-1, 3)],\n",
    "    'svc__kernel': ['rbf'],\n",
    "    'svc__gamma': [10**i for i in range(-5, 1)],\n",
    "}\n",
    "\n",
    "grid_params_svc_rbf = GridSearchCV(grid_model, param_grid=params_rbf, scoring='f1_macro', verbose=True,\n",
    "                                   cv=kf, return_train_score=True, n_jobs=60)\n",
    "grid_params_svc_rbf.fit(X_train_validation, y_train_validation)\n",
    "\n",
    "end = time.time()\n",
    "print_time_taken(start, end)"
   ]
  },
  {
   "cell_type": "code",
   "execution_count": 25,
   "id": "274c05f2-b382-4c59-a451-76b84205912a",
   "metadata": {},
   "outputs": [
    {
     "name": "stdout",
     "output_type": "stream",
     "text": [
      "Best score (GridSearchCV): 0.8077437851299445\n",
      "Best parameters: {'svc__C': 10, 'svc__gamma': 0.001, 'svc__kernel': 'rbf'}\n",
      "\n",
      "Training set scores:\n",
      "Accuracy: 0.898119918699187\n",
      "Precision: 0.8985318153635016\n",
      "Recall: 0.8899852084374231\n",
      "F1 Score: 0.8937490134550388\n",
      "\n",
      "Validation set scores:\n",
      "Accuracy: 0.8861788617886179\n",
      "Precision: 0.883567224255009\n",
      "Recall: 0.8768321779156925\n",
      "F1 Score: 0.8793546644546069\n"
     ]
    }
   ],
   "source": [
    "best_model = grid_params_svc_rbf.best_estimator_\n",
    "\n",
    "print(f\"Best score (GridSearchCV): {grid_params_svc_rbf.best_score_}\")\n",
    "print(f\"Best parameters: {grid_params_svc_rbf.best_params_}\\n\")\n",
    "\n",
    "y_train_preds = best_model.predict(X_train)\n",
    "print(\"Training set scores:\")\n",
    "print(\"Accuracy:\", accuracy_score(y_train, y_train_preds))\n",
    "print(\"Precision:\", precision_score(y_train, y_train_preds, average='macro'))\n",
    "print(\"Recall:\", recall_score(y_train, y_train_preds, average='macro'))\n",
    "print(\"F1 Score:\", f1_score(y_train, y_train_preds, average='macro'))\n",
    "\n",
    "y_val_preds = best_model.predict(X_val)\n",
    "print(\"\\nValidation set scores:\")\n",
    "print(\"Accuracy:\", accuracy_score(y_val, y_val_preds))\n",
    "print(\"Precision:\", precision_score(y_val, y_val_preds, average='macro'))\n",
    "print(\"Recall:\", recall_score(y_val, y_val_preds, average='macro'))\n",
    "print(\"F1 Score:\", f1_score(y_val, y_val_preds, average='macro'))"
   ]
  },
  {
   "cell_type": "code",
   "execution_count": 26,
   "id": "0b3976fb-c6bf-439b-8c26-253f69aaebde",
   "metadata": {},
   "outputs": [
    {
     "data": {
      "image/png": "[encoded data removed]",
      "text/plain": [
       "<Figure size 720x576 with 2 Axes>"
      ]
     },
     "metadata": {
      "needs_background": "light"
     },
     "output_type": "display_data"
    }
   ],
   "source": [
    "Cs = params_rbf['svc__C']\n",
    "gammas = params_rbf['svc__gamma']\n",
    "kernels = params_rbf['svc__kernel']\n",
    "\n",
    "cv_results = pd.DataFrame(grid_params_svc_rbf.cv_results_)\n",
    "\n",
    "for kernel in kernels:\n",
    "    mask = cv_results['param_svc__kernel'] == kernel\n",
    "    cv_test_score = cv_results[mask]['mean_test_score'].values.reshape(len(gammas), len(Cs))\n",
    "    \n",
    "    plt.figure(figsize=(10, 8))\n",
    "    plt.imshow(cv_test_score, cmap='viridis', aspect='auto')\n",
    "    plt.colorbar()\n",
    "    \n",
    "    plt.ylabel('Gamma')\n",
    "    plt.yticks(np.arange(len(gammas)), gammas)\n",
    "    \n",
    "    plt.xlabel('C')\n",
    "    plt.xticks(np.arange(len(Cs)), Cs)\n",
    "    \n",
    "    plt.title(f'Kernel: {kernel}')\n",
    "    plt.show()"
   ]
  },
  {
   "cell_type": "markdown",
   "id": "89384a9f-af5f-4689-98d7-7a3678a6c20c",
   "metadata": {},
   "source": [
    "Nakon analize oba kernela, biramo rbf i njegov najbolji model, tako da ove rezultate proglašavamo konačnim kvalitetom modela. Napomena kao i u ostalim slučajevima, neće biti treniran model nad svim podacima iz skupa (uključujući i test), nego će biti eksportovana verzija trenirana nad trening i validacionim skupom da bi se prilikom demonstracije ili bilo kog daljeg koraka mogli koristiti primeri iz test skupa i dobijala relevantna predviđanja."
   ]
  },
  {
   "cell_type": "code",
   "execution_count": 27,
   "id": "f87cbe73-fca8-4f2c-85ee-6e40f4963082",
   "metadata": {},
   "outputs": [
    {
     "data": {
      "image/png": "[encoded data removed]",
      "text/plain": [
       "<Figure size 576x432 with 2 Axes>"
      ]
     },
     "metadata": {
      "needs_background": "light"
     },
     "output_type": "display_data"
    }
   ],
   "source": [
    "cm = confusion_matrix(y_val, y_val_preds)\n",
    "plt.figure(figsize=(8, 6))\n",
    "sns.heatmap(cm, annot=True, fmt='d', cmap='Blues', xticklabels=class_labels, yticklabels=class_labels)\n",
    "plt.title('Confusion matrix')\n",
    "plt.xlabel('Predicted')\n",
    "plt.ylabel('True')\n",
    "plt.show()"
   ]
  },
  {
   "cell_type": "code",
   "execution_count": 28,
   "id": "5a6b93f2-c804-4934-83b3-2e6efff2c91f",
   "metadata": {},
   "outputs": [
    {
     "name": "stdout",
     "output_type": "stream",
     "text": [
      "              precision    recall  f1-score   support\n",
      "\n",
      "    backhand       0.87      0.80      0.84      1304\n",
      "    forehand       0.88      0.86      0.87      1544\n",
      "       other       0.90      0.93      0.91      3978\n",
      "       serve       0.94      0.97      0.96      1046\n",
      "\n",
      "    accuracy                           0.90      7872\n",
      "   macro avg       0.90      0.89      0.89      7872\n",
      "weighted avg       0.90      0.90      0.90      7872\n",
      "\n"
     ]
    }
   ],
   "source": [
    "print(classification_report(y_train, y_train_preds))"
   ]
  },
  {
   "cell_type": "code",
   "execution_count": 29,
   "id": "24391ea9-ad7b-4755-98d1-28876d5ea9c7",
   "metadata": {},
   "outputs": [
    {
     "name": "stdout",
     "output_type": "stream",
     "text": [
      "              precision    recall  f1-score   support\n",
      "\n",
      "    backhand       0.85      0.77      0.81       326\n",
      "    forehand       0.87      0.84      0.86       386\n",
      "       other       0.89      0.92      0.90       995\n",
      "       serve       0.91      0.97      0.94       261\n",
      "\n",
      "    accuracy                           0.89      1968\n",
      "   macro avg       0.88      0.88      0.88      1968\n",
      "weighted avg       0.89      0.89      0.89      1968\n",
      "\n"
     ]
    }
   ],
   "source": [
    "print(classification_report(y_val, y_val_preds))"
   ]
  },
  {
   "cell_type": "markdown",
   "id": "96b230b3-dfd7-4b8c-ac67-bc805a5775f7",
   "metadata": {},
   "source": [
    "Možemo videti da se model ponaša prilično prihvatljivo što se generalizacije tiče. Naročito uzimajući u obzir to što ovaj skup sadrži dosta loše labeliranih primera."
   ]
  },
  {
   "cell_type": "markdown",
   "id": "f7ab2c84-5aae-49fc-b3f0-8deb1f1ace9e",
   "metadata": {},
   "source": [
    "## Procena modela na test skupu"
   ]
  },
  {
   "cell_type": "code",
   "execution_count": 30,
   "id": "182d3c7c-af18-4963-9477-254403854b74",
   "metadata": {},
   "outputs": [
    {
     "name": "stdout",
     "output_type": "stream",
     "text": [
      "\n",
      "Test set scores:\n",
      "Accuracy: 0.8289313287281593\n",
      "Precision: 0.8246967481064159\n",
      "Recall: 0.80645814205738\n",
      "F1 Score: 0.8148414013192202\n"
     ]
    }
   ],
   "source": [
    "y_test_preds = best_model.predict(X_test)\n",
    "\n",
    "print(\"\\nTest set scores:\")\n",
    "print(\"Accuracy:\", accuracy_score(y_test, y_test_preds))\n",
    "print(\"Precision:\", precision_score(y_test, y_test_preds, average='macro'))\n",
    "print(\"Recall:\", recall_score(y_test, y_test_preds, average='macro'))\n",
    "print(\"F1 Score:\", f1_score(y_test, y_test_preds, average='macro'))"
   ]
  },
  {
   "cell_type": "code",
   "execution_count": 31,
   "id": "86581f96-e24a-48d6-81ed-96f3a8cbd157",
   "metadata": {},
   "outputs": [
    {
     "data": {
      "image/png": "[encoded data removed]",
      "text/plain": [
       "<Figure size 576x432 with 2 Axes>"
      ]
     },
     "metadata": {
      "needs_background": "light"
     },
     "output_type": "display_data"
    }
   ],
   "source": [
    "cm = confusion_matrix(y_test, y_test_preds)\n",
    "plt.figure(figsize=(8, 6))\n",
    "sns.heatmap(cm, annot=True, fmt='d', cmap='Blues', xticklabels=class_labels, yticklabels=class_labels)\n",
    "plt.title('Confusion matrix')\n",
    "plt.xlabel('Predicted')\n",
    "plt.ylabel('True')\n",
    "plt.show()"
   ]
  },
  {
   "cell_type": "code",
   "execution_count": 32,
   "id": "9a86d79b-919b-4b74-a398-192e6850f4fb",
   "metadata": {},
   "outputs": [
    {
     "name": "stdout",
     "output_type": "stream",
     "text": [
      "              precision    recall  f1-score   support\n",
      "\n",
      "    backhand       0.76      0.69      0.73       408\n",
      "    forehand       0.75      0.72      0.73       482\n",
      "       other       0.85      0.89      0.87      1244\n",
      "       serve       0.93      0.93      0.93       327\n",
      "\n",
      "    accuracy                           0.83      2461\n",
      "   macro avg       0.82      0.81      0.81      2461\n",
      "weighted avg       0.83      0.83      0.83      2461\n",
      "\n"
     ]
    }
   ],
   "source": [
    "print(classification_report(y_test, y_test_preds))"
   ]
  },
  {
   "cell_type": "markdown",
   "id": "82afd151-90f1-4985-88d0-0074cf346f30",
   "metadata": {},
   "source": [
    "Konačno, kao i u svim implementiranim slučajevima dobijamo nešto lošije rezultate za test skup, a opet kao u svakom slučaju, ovi rezultati su i više nego prihvatljivi uzimajući sve u obzir."
   ]
  },
  {
   "cell_type": "markdown",
   "id": "f6063d60-1dc2-46a1-b44a-6f652957372c",
   "metadata": {},
   "source": [
    "# Čuvanje modela, odnosno celog pipeline-a za kasniju upotrebu"
   ]
  },
  {
   "cell_type": "code",
   "execution_count": 33,
   "id": "e1203788-fbac-4b8e-977c-ed134ea1e760",
   "metadata": {},
   "outputs": [],
   "source": [
    "import pickle\n",
    "\n",
    "if not os.path.exists('../../models'):\n",
    "    os.makedirs('../../models')\n",
    "        \n",
    "with open('../../models/02_svm_original_data.pkl', 'wb') as f:\n",
    "    pickle.dump(best_model, f)"
   ]
  },
  {
   "cell_type": "code",
   "execution_count": null,
   "id": "b2843800-9d18-44f6-b11f-8772dbccfc6b",
   "metadata": {},
   "outputs": [],
   "source": []
  }
 ],
 "metadata": {
  "kernelspec": {
   "display_name": "Python 3 (ipykernel)",
   "language": "python",
   "name": "python3"
  },
  "language_info": {
   "codemirror_mode": {
    "name": "ipython",
    "version": 3
   },
   "file_extension": ".py",
   "mimetype": "text/x-python",
   "name": "python",
   "nbconvert_exporter": "python",
   "pygments_lexer": "ipython3",
   "version": "3.12.3"
  }
 },
 "nbformat": 4,
 "nbformat_minor": 5
}
