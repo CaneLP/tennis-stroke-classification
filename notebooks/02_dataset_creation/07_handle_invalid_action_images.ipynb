{
 "cells": [
  {
   "cell_type": "code",
   "execution_count": 1,
   "id": "27590e3b-7cf6-48b1-8cfa-b2da82c296b8",
   "metadata": {},
   "outputs": [],
   "source": [
    "import os\n",
    "import shutil\n",
    "from PIL import Image\n",
    "from collections import defaultdict"
   ]
  },
  {
   "cell_type": "code",
   "execution_count": 2,
   "id": "d669b7ac-cd7e-4e87-95c0-da2ec72e13ed",
   "metadata": {},
   "outputs": [],
   "source": [
    "def handle_invalid_action_images(dataset_path):\n",
    "    # Store bad images for later analysis\n",
    "    deleted_folder = os.path.join(dataset_path, '..', 'handle_action_images_bin')\n",
    "    print(deleted_folder)\n",
    "    if not os.path.exists(deleted_folder):\n",
    "        os.makedirs(deleted_folder)\n",
    "\n",
    "    deleted_strokes_counts = defaultdict(int)\n",
    "    for foldername, _, filenames in os.walk(dataset_path):\n",
    "        for filename in filenames:\n",
    "            file_path = os.path.join(foldername, filename)\n",
    "            try:\n",
    "                with Image.open(file_path) as img:\n",
    "                    img.verify()\n",
    "                with Image.open(file_path) as img:\n",
    "                    img = img.convert(\"RGB\")\n",
    "                    if img.size != (12, 20):\n",
    "                        raise ValueError(f\"Invalid image size: {img.size}. Expected size is (12, 20).\")\n",
    "            except (IOError, SyntaxError, ValueError, AttributeError) as e:\n",
    "                print(f\"Invalid image found: {file_path}. Reason: {e}. Moving to ../handle_action_images_bin.\")\n",
    "                \n",
    "                relative_path = os.path.relpath(foldername, dataset_path)\n",
    "                target_folder = os.path.join(deleted_folder, os.path.basename(dataset_path), relative_path)\n",
    "                \n",
    "                print(relative_path)\n",
    "                print(target_folder)\n",
    "                if not os.path.exists(target_folder):\n",
    "                    os.makedirs(target_folder)\n",
    "                \n",
    "                shutil.move(file_path, os.path.join(target_folder, filename))\n",
    "                print(f\"Moved {filename} to {target_folder}\")\n",
    "                \n",
    "                stroke_type = os.path.basename(foldername)\n",
    "                deleted_strokes_counts[stroke_type] += 1 \n",
    "            \n",
    "    print('-' * 50)\n",
    "    print(\"Finished processing and cleaning the dataset.\")\n",
    "    \n",
    "    for stroke_type, count in deleted_strokes_counts.items():\n",
    "        if stroke_type in ['forehand', 'backhand', 'other', 'serve']:\n",
    "            print(f\"{stroke_type}: {count} images deleted\")"
   ]
  },
  {
   "cell_type": "code",
   "execution_count": 3,
   "id": "f3478bff-67f1-4c7a-94c9-1d0240090224",
   "metadata": {
    "scrolled": true,
    "tags": []
   },
   "outputs": [
    {
     "name": "stdout",
     "output_type": "stream",
     "text": [
      "../../data/datasets/action_images_dataset_original_v1.0/../handle_action_images_bin\n",
      "--------------------------------------------------\n",
      "Finished processing and cleaning the dataset.\n"
     ]
    }
   ],
   "source": [
    "dataset_path = '../../data/datasets/action_images_dataset_original_v1.0'\n",
    "handle_invalid_action_images(dataset_path)"
   ]
  },
  {
   "cell_type": "code",
   "execution_count": 4,
   "id": "353adb77-0477-4206-a415-e91a49b0ad76",
   "metadata": {},
   "outputs": [],
   "source": [
    "#--------------------------------------------------\n",
    "#Finished processing and cleaning the dataset.\n",
    "#forehand: 76 images deleted\n",
    "#other: 247 images deleted\n",
    "#serve: 151 images deleted\n",
    "#backhand: 65 images deleted"
   ]
  }
 ],
 "metadata": {
  "kernelspec": {
   "display_name": "Tennis AI",
   "language": "python",
   "name": "tennisai"
  },
  "language_info": {
   "codemirror_mode": {
    "name": "ipython",
    "version": 3
   },
   "file_extension": ".py",
   "mimetype": "text/x-python",
   "name": "python",
   "nbconvert_exporter": "python",
   "pygments_lexer": "ipython3",
   "version": "3.8.0"
  }
 },
 "nbformat": 4,
 "nbformat_minor": 5
}
